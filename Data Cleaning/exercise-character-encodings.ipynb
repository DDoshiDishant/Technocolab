{
 "cells": [
  {
   "cell_type": "markdown",
   "id": "9d1ea80d",
   "metadata": {
    "papermill": {
     "duration": 0.019045,
     "end_time": "2021-12-13T13:36:25.964473",
     "exception": false,
     "start_time": "2021-12-13T13:36:25.945428",
     "status": "completed"
    },
    "tags": []
   },
   "source": [
    "**This notebook is an exercise in the [Data Cleaning](https://www.kaggle.com/learn/data-cleaning) course.  You can reference the tutorial at [this link](https://www.kaggle.com/alexisbcook/character-encodings).**\n",
    "\n",
    "---\n"
   ]
  },
  {
   "cell_type": "markdown",
   "id": "222f01f6",
   "metadata": {
    "papermill": {
     "duration": 0.016999,
     "end_time": "2021-12-13T13:36:26.000353",
     "exception": false,
     "start_time": "2021-12-13T13:36:25.983354",
     "status": "completed"
    },
    "tags": []
   },
   "source": [
    "In this exercise, you'll apply what you learned in the **Character encodings** tutorial.\n",
    "\n",
    "# Setup\n",
    "\n",
    "The questions below will give you feedback on your work. Run the following cell to set up the feedback system."
   ]
  },
  {
   "cell_type": "code",
   "execution_count": 1,
   "id": "ef829be8",
   "metadata": {
    "execution": {
     "iopub.execute_input": "2021-12-13T13:36:26.048713Z",
     "iopub.status.busy": "2021-12-13T13:36:26.048054Z",
     "iopub.status.idle": "2021-12-13T13:36:26.132659Z",
     "shell.execute_reply": "2021-12-13T13:36:26.131358Z",
     "shell.execute_reply.started": "2021-12-13T13:02:29.376559Z"
    },
    "papermill": {
     "duration": 0.114885,
     "end_time": "2021-12-13T13:36:26.132960",
     "exception": false,
     "start_time": "2021-12-13T13:36:26.018075",
     "status": "completed"
    },
    "tags": []
   },
   "outputs": [
    {
     "name": "stdout",
     "output_type": "stream",
     "text": [
      "Setup Complete\n"
     ]
    }
   ],
   "source": [
    "from learntools.core import binder\n",
    "binder.bind(globals())\n",
    "from learntools.data_cleaning.ex4 import *\n",
    "print(\"Setup Complete\")"
   ]
  },
  {
   "cell_type": "markdown",
   "id": "11418c51",
   "metadata": {
    "papermill": {
     "duration": 0.017349,
     "end_time": "2021-12-13T13:36:26.170131",
     "exception": false,
     "start_time": "2021-12-13T13:36:26.152782",
     "status": "completed"
    },
    "tags": []
   },
   "source": [
    "# Get our environment set up\n",
    "\n",
    "The first thing we'll need to do is load in the libraries we'll be using."
   ]
  },
  {
   "cell_type": "code",
   "execution_count": 2,
   "id": "c49cbd6f",
   "metadata": {
    "execution": {
     "iopub.execute_input": "2021-12-13T13:36:26.210460Z",
     "iopub.status.busy": "2021-12-13T13:36:26.209406Z",
     "iopub.status.idle": "2021-12-13T13:36:26.213496Z",
     "shell.execute_reply": "2021-12-13T13:36:26.214030Z",
     "shell.execute_reply.started": "2021-12-13T12:57:44.734291Z"
    },
    "papermill": {
     "duration": 0.026474,
     "end_time": "2021-12-13T13:36:26.214196",
     "exception": false,
     "start_time": "2021-12-13T13:36:26.187722",
     "status": "completed"
    },
    "tags": []
   },
   "outputs": [],
   "source": [
    "# modules we'll use\n",
    "import pandas as pd\n",
    "import numpy as np\n",
    "\n",
    "# helpful character encoding module\n",
    "import chardet\n",
    "\n",
    "# set seed for reproducibility\n",
    "np.random.seed(0)"
   ]
  },
  {
   "cell_type": "markdown",
   "id": "3a1b121d",
   "metadata": {
    "papermill": {
     "duration": 0.017733,
     "end_time": "2021-12-13T13:36:26.250563",
     "exception": false,
     "start_time": "2021-12-13T13:36:26.232830",
     "status": "completed"
    },
    "tags": []
   },
   "source": [
    "# 1) What are encodings?\n",
    "\n",
    "You're working with a dataset composed of bytes.  Run the code cell below to print a sample entry."
   ]
  },
  {
   "cell_type": "code",
   "execution_count": 3,
   "id": "913aa6a2",
   "metadata": {
    "execution": {
     "iopub.execute_input": "2021-12-13T13:36:26.290089Z",
     "iopub.status.busy": "2021-12-13T13:36:26.289083Z",
     "iopub.status.idle": "2021-12-13T13:36:26.294789Z",
     "shell.execute_reply": "2021-12-13T13:36:26.295334Z",
     "shell.execute_reply.started": "2021-12-13T12:57:59.696575Z"
    },
    "papermill": {
     "duration": 0.027099,
     "end_time": "2021-12-13T13:36:26.295495",
     "exception": false,
     "start_time": "2021-12-13T13:36:26.268396",
     "status": "completed"
    },
    "tags": []
   },
   "outputs": [
    {
     "name": "stdout",
     "output_type": "stream",
     "text": [
      "b'\\xa7A\\xa6n'\n",
      "data type: <class 'bytes'>\n"
     ]
    }
   ],
   "source": [
    "sample_entry = b'\\xa7A\\xa6n'\n",
    "print(sample_entry)\n",
    "print('data type:', type(sample_entry))"
   ]
  },
  {
   "cell_type": "markdown",
   "id": "a75756e9",
   "metadata": {
    "papermill": {
     "duration": 0.017718,
     "end_time": "2021-12-13T13:36:26.331314",
     "exception": false,
     "start_time": "2021-12-13T13:36:26.313596",
     "status": "completed"
    },
    "tags": []
   },
   "source": [
    "You notice that it doesn't use the standard UTF-8 encoding. \n",
    "\n",
    "Use the next code cell to create a variable `new_entry` that changes the encoding from `\"big5-tw\"` to `\"utf-8\"`.  `new_entry` should have the bytes datatype."
   ]
  },
  {
   "cell_type": "code",
   "execution_count": 4,
   "id": "4ee3eac2",
   "metadata": {
    "execution": {
     "iopub.execute_input": "2021-12-13T13:36:26.376871Z",
     "iopub.status.busy": "2021-12-13T13:36:26.376111Z",
     "iopub.status.idle": "2021-12-13T13:36:26.380531Z",
     "shell.execute_reply": "2021-12-13T13:36:26.381084Z",
     "shell.execute_reply.started": "2021-12-13T13:05:15.242601Z"
    },
    "papermill": {
     "duration": 0.03216,
     "end_time": "2021-12-13T13:36:26.381264",
     "exception": false,
     "start_time": "2021-12-13T13:36:26.349104",
     "status": "completed"
    },
    "tags": []
   },
   "outputs": [
    {
     "data": {
      "application/javascript": [
       "parent.postMessage({\"jupyterEvent\": \"custom.exercise_interaction\", \"data\": {\"outcomeType\": 1, \"valueTowardsCompletion\": 0.3333333333333333, \"interactionType\": 1, \"questionType\": 1, \"questionId\": \"1_EncodingsIntro\", \"learnToolsVersion\": \"0.3.4\", \"failureMessage\": \"\", \"exceptionClass\": \"\", \"trace\": \"\"}}, \"*\")"
      ],
      "text/plain": [
       "<IPython.core.display.Javascript object>"
      ]
     },
     "metadata": {},
     "output_type": "display_data"
    },
    {
     "data": {
      "text/markdown": [
       "<span style=\"color:#33cc33\">Correct</span>"
      ],
      "text/plain": [
       "Correct"
      ]
     },
     "metadata": {},
     "output_type": "display_data"
    }
   ],
   "source": [
    "new_entry = sample_entry.decode(\"big5-tw\",errors=\"replace\")\n",
    "new_entry =new_entry.encode(\"utf-8\",errors=\"replace\")\n",
    "# Check your answer\n",
    "q1.check()"
   ]
  },
  {
   "cell_type": "code",
   "execution_count": 5,
   "id": "e9d05b9c",
   "metadata": {
    "execution": {
     "iopub.execute_input": "2021-12-13T13:36:26.424005Z",
     "iopub.status.busy": "2021-12-13T13:36:26.423156Z",
     "iopub.status.idle": "2021-12-13T13:36:26.429031Z",
     "shell.execute_reply": "2021-12-13T13:36:26.429626Z",
     "shell.execute_reply.started": "2021-12-13T13:05:20.259550Z"
    },
    "papermill": {
     "duration": 0.028604,
     "end_time": "2021-12-13T13:36:26.429804",
     "exception": false,
     "start_time": "2021-12-13T13:36:26.401200",
     "status": "completed"
    },
    "tags": []
   },
   "outputs": [
    {
     "data": {
      "text/plain": [
       "bytes"
      ]
     },
     "execution_count": 5,
     "metadata": {},
     "output_type": "execute_result"
    }
   ],
   "source": [
    "type(new_entry)"
   ]
  },
  {
   "cell_type": "code",
   "execution_count": 6,
   "id": "bd6719c1",
   "metadata": {
    "execution": {
     "iopub.execute_input": "2021-12-13T13:36:26.475366Z",
     "iopub.status.busy": "2021-12-13T13:36:26.474287Z",
     "iopub.status.idle": "2021-12-13T13:36:26.476682Z",
     "shell.execute_reply": "2021-12-13T13:36:26.477152Z"
    },
    "papermill": {
     "duration": 0.027423,
     "end_time": "2021-12-13T13:36:26.477327",
     "exception": false,
     "start_time": "2021-12-13T13:36:26.449904",
     "status": "completed"
    },
    "tags": []
   },
   "outputs": [],
   "source": [
    "# Lines below will give you a hint or solution code\n",
    "#q1.hint()\n",
    "#q1.solution()"
   ]
  },
  {
   "cell_type": "markdown",
   "id": "c9f972ad",
   "metadata": {
    "papermill": {
     "duration": 0.018952,
     "end_time": "2021-12-13T13:36:26.515890",
     "exception": false,
     "start_time": "2021-12-13T13:36:26.496938",
     "status": "completed"
    },
    "tags": []
   },
   "source": [
    "# 2) Reading in files with encoding problems\n",
    "\n",
    "Use the code cell below to read in this file at path `\"../input/fatal-police-shootings-in-the-us/PoliceKillingsUS.csv\"`.  \n",
    "\n",
    "Figure out what the correct encoding should be and read in the file to a DataFrame `police_killings`."
   ]
  },
  {
   "cell_type": "code",
   "execution_count": 7,
   "id": "10c316a1",
   "metadata": {
    "execution": {
     "iopub.execute_input": "2021-12-13T13:36:26.559863Z",
     "iopub.status.busy": "2021-12-13T13:36:26.558971Z",
     "iopub.status.idle": "2021-12-13T13:36:26.564777Z",
     "shell.execute_reply": "2021-12-13T13:36:26.565240Z",
     "shell.execute_reply.started": "2021-12-13T13:17:57.820021Z"
    },
    "papermill": {
     "duration": 0.029979,
     "end_time": "2021-12-13T13:36:26.565422",
     "exception": false,
     "start_time": "2021-12-13T13:36:26.535443",
     "status": "completed"
    },
    "tags": []
   },
   "outputs": [
    {
     "data": {
      "text/plain": [
       "<_io.BufferedReader name='../input/fatal-police-shootings-in-the-us/PoliceKillingsUS.csv'>"
      ]
     },
     "execution_count": 7,
     "metadata": {},
     "output_type": "execute_result"
    }
   ],
   "source": [
    "open (\"../input/fatal-police-shootings-in-the-us/PoliceKillingsUS.csv\",'rb')"
   ]
  },
  {
   "cell_type": "code",
   "execution_count": 8,
   "id": "8aaa4002",
   "metadata": {
    "execution": {
     "iopub.execute_input": "2021-12-13T13:36:26.610834Z",
     "iopub.status.busy": "2021-12-13T13:36:26.609807Z",
     "iopub.status.idle": "2021-12-13T13:36:26.616472Z",
     "shell.execute_reply": "2021-12-13T13:36:26.617046Z",
     "shell.execute_reply.started": "2021-12-13T13:27:42.634191Z"
    },
    "papermill": {
     "duration": 0.03109,
     "end_time": "2021-12-13T13:36:26.617248",
     "exception": false,
     "start_time": "2021-12-13T13:36:26.586158",
     "status": "completed"
    },
    "tags": []
   },
   "outputs": [
    {
     "name": "stdout",
     "output_type": "stream",
     "text": [
      "{'encoding': 'ascii', 'confidence': 1.0, 'language': ''}\n"
     ]
    }
   ],
   "source": [
    "with open(\"../input/fatal-police-shootings-in-the-us/PoliceKillingsUS.csv\",'rb')as rawdata:\n",
    "    result = chardet.detect(rawdata.read(128))\n",
    "    \n",
    "print(result)"
   ]
  },
  {
   "cell_type": "code",
   "execution_count": 9,
   "id": "1730c272",
   "metadata": {
    "execution": {
     "iopub.execute_input": "2021-12-13T13:36:26.665684Z",
     "iopub.status.busy": "2021-12-13T13:36:26.664369Z",
     "iopub.status.idle": "2021-12-13T13:36:26.690266Z",
     "shell.execute_reply": "2021-12-13T13:36:26.690804Z",
     "shell.execute_reply.started": "2021-12-13T13:30:28.744020Z"
    },
    "papermill": {
     "duration": 0.053231,
     "end_time": "2021-12-13T13:36:26.691005",
     "exception": false,
     "start_time": "2021-12-13T13:36:26.637774",
     "status": "completed"
    },
    "tags": []
   },
   "outputs": [
    {
     "data": {
      "application/javascript": [
       "parent.postMessage({\"jupyterEvent\": \"custom.exercise_interaction\", \"data\": {\"outcomeType\": 1, \"valueTowardsCompletion\": 0.3333333333333333, \"interactionType\": 1, \"questionType\": 1, \"questionId\": \"2_ReadIn\", \"learnToolsVersion\": \"0.3.4\", \"failureMessage\": \"\", \"exceptionClass\": \"\", \"trace\": \"\"}}, \"*\")"
      ],
      "text/plain": [
       "<IPython.core.display.Javascript object>"
      ]
     },
     "metadata": {},
     "output_type": "display_data"
    },
    {
     "data": {
      "text/markdown": [
       "<span style=\"color:#33cc33\">Correct</span>"
      ],
      "text/plain": [
       "Correct"
      ]
     },
     "metadata": {},
     "output_type": "display_data"
    }
   ],
   "source": [
    "# TODO: Load in the DataFrame correctly.\n",
    "\n",
    "police_killings = pd.read_csv(\"../input/fatal-police-shootings-in-the-us/PoliceKillingsUS.csv\",encoding='Windows-1252')\n",
    "\n",
    "\n",
    "# Check your answer\n",
    "q2.check()"
   ]
  },
  {
   "cell_type": "code",
   "execution_count": 10,
   "id": "79a47d58",
   "metadata": {
    "execution": {
     "iopub.execute_input": "2021-12-13T13:36:26.737194Z",
     "iopub.status.busy": "2021-12-13T13:36:26.736535Z",
     "iopub.status.idle": "2021-12-13T13:36:26.760174Z",
     "shell.execute_reply": "2021-12-13T13:36:26.759496Z",
     "shell.execute_reply.started": "2021-12-13T13:30:34.113385Z"
    },
    "papermill": {
     "duration": 0.047784,
     "end_time": "2021-12-13T13:36:26.760318",
     "exception": false,
     "start_time": "2021-12-13T13:36:26.712534",
     "status": "completed"
    },
    "tags": []
   },
   "outputs": [
    {
     "data": {
      "text/html": [
       "<div>\n",
       "<style scoped>\n",
       "    .dataframe tbody tr th:only-of-type {\n",
       "        vertical-align: middle;\n",
       "    }\n",
       "\n",
       "    .dataframe tbody tr th {\n",
       "        vertical-align: top;\n",
       "    }\n",
       "\n",
       "    .dataframe thead th {\n",
       "        text-align: right;\n",
       "    }\n",
       "</style>\n",
       "<table border=\"1\" class=\"dataframe\">\n",
       "  <thead>\n",
       "    <tr style=\"text-align: right;\">\n",
       "      <th></th>\n",
       "      <th>id</th>\n",
       "      <th>name</th>\n",
       "      <th>date</th>\n",
       "      <th>manner_of_death</th>\n",
       "      <th>armed</th>\n",
       "      <th>age</th>\n",
       "      <th>gender</th>\n",
       "      <th>race</th>\n",
       "      <th>city</th>\n",
       "      <th>state</th>\n",
       "      <th>signs_of_mental_illness</th>\n",
       "      <th>threat_level</th>\n",
       "      <th>flee</th>\n",
       "      <th>body_camera</th>\n",
       "    </tr>\n",
       "  </thead>\n",
       "  <tbody>\n",
       "    <tr>\n",
       "      <th>0</th>\n",
       "      <td>3</td>\n",
       "      <td>Tim Elliot</td>\n",
       "      <td>02/01/15</td>\n",
       "      <td>shot</td>\n",
       "      <td>gun</td>\n",
       "      <td>53.0</td>\n",
       "      <td>M</td>\n",
       "      <td>A</td>\n",
       "      <td>Shelton</td>\n",
       "      <td>WA</td>\n",
       "      <td>True</td>\n",
       "      <td>attack</td>\n",
       "      <td>Not fleeing</td>\n",
       "      <td>False</td>\n",
       "    </tr>\n",
       "    <tr>\n",
       "      <th>1</th>\n",
       "      <td>4</td>\n",
       "      <td>Lewis Lee Lembke</td>\n",
       "      <td>02/01/15</td>\n",
       "      <td>shot</td>\n",
       "      <td>gun</td>\n",
       "      <td>47.0</td>\n",
       "      <td>M</td>\n",
       "      <td>W</td>\n",
       "      <td>Aloha</td>\n",
       "      <td>OR</td>\n",
       "      <td>False</td>\n",
       "      <td>attack</td>\n",
       "      <td>Not fleeing</td>\n",
       "      <td>False</td>\n",
       "    </tr>\n",
       "    <tr>\n",
       "      <th>2</th>\n",
       "      <td>5</td>\n",
       "      <td>John Paul Quintero</td>\n",
       "      <td>03/01/15</td>\n",
       "      <td>shot and Tasered</td>\n",
       "      <td>unarmed</td>\n",
       "      <td>23.0</td>\n",
       "      <td>M</td>\n",
       "      <td>H</td>\n",
       "      <td>Wichita</td>\n",
       "      <td>KS</td>\n",
       "      <td>False</td>\n",
       "      <td>other</td>\n",
       "      <td>Not fleeing</td>\n",
       "      <td>False</td>\n",
       "    </tr>\n",
       "    <tr>\n",
       "      <th>3</th>\n",
       "      <td>8</td>\n",
       "      <td>Matthew Hoffman</td>\n",
       "      <td>04/01/15</td>\n",
       "      <td>shot</td>\n",
       "      <td>toy weapon</td>\n",
       "      <td>32.0</td>\n",
       "      <td>M</td>\n",
       "      <td>W</td>\n",
       "      <td>San Francisco</td>\n",
       "      <td>CA</td>\n",
       "      <td>True</td>\n",
       "      <td>attack</td>\n",
       "      <td>Not fleeing</td>\n",
       "      <td>False</td>\n",
       "    </tr>\n",
       "    <tr>\n",
       "      <th>4</th>\n",
       "      <td>9</td>\n",
       "      <td>Michael Rodriguez</td>\n",
       "      <td>04/01/15</td>\n",
       "      <td>shot</td>\n",
       "      <td>nail gun</td>\n",
       "      <td>39.0</td>\n",
       "      <td>M</td>\n",
       "      <td>H</td>\n",
       "      <td>Evans</td>\n",
       "      <td>CO</td>\n",
       "      <td>False</td>\n",
       "      <td>attack</td>\n",
       "      <td>Not fleeing</td>\n",
       "      <td>False</td>\n",
       "    </tr>\n",
       "  </tbody>\n",
       "</table>\n",
       "</div>"
      ],
      "text/plain": [
       "   id                name      date   manner_of_death       armed   age  \\\n",
       "0   3          Tim Elliot  02/01/15              shot         gun  53.0   \n",
       "1   4    Lewis Lee Lembke  02/01/15              shot         gun  47.0   \n",
       "2   5  John Paul Quintero  03/01/15  shot and Tasered     unarmed  23.0   \n",
       "3   8     Matthew Hoffman  04/01/15              shot  toy weapon  32.0   \n",
       "4   9   Michael Rodriguez  04/01/15              shot    nail gun  39.0   \n",
       "\n",
       "  gender race           city state  signs_of_mental_illness threat_level  \\\n",
       "0      M    A        Shelton    WA                     True       attack   \n",
       "1      M    W          Aloha    OR                    False       attack   \n",
       "2      M    H        Wichita    KS                    False        other   \n",
       "3      M    W  San Francisco    CA                     True       attack   \n",
       "4      M    H          Evans    CO                    False       attack   \n",
       "\n",
       "          flee  body_camera  \n",
       "0  Not fleeing        False  \n",
       "1  Not fleeing        False  \n",
       "2  Not fleeing        False  \n",
       "3  Not fleeing        False  \n",
       "4  Not fleeing        False  "
      ]
     },
     "execution_count": 10,
     "metadata": {},
     "output_type": "execute_result"
    }
   ],
   "source": [
    "police_killings.head(5)"
   ]
  },
  {
   "cell_type": "markdown",
   "id": "392b921f",
   "metadata": {
    "papermill": {
     "duration": 0.021485,
     "end_time": "2021-12-13T13:36:26.803878",
     "exception": false,
     "start_time": "2021-12-13T13:36:26.782393",
     "status": "completed"
    },
    "tags": []
   },
   "source": [
    "Feel free to use any additional code cells for supplemental work.  To get credit for finishing this question, you'll need to run `q2.check()` and get a result of **Correct**."
   ]
  },
  {
   "cell_type": "code",
   "execution_count": 11,
   "id": "691209c1",
   "metadata": {
    "execution": {
     "iopub.execute_input": "2021-12-13T13:36:26.857437Z",
     "iopub.status.busy": "2021-12-13T13:36:26.856418Z",
     "iopub.status.idle": "2021-12-13T13:36:26.862252Z",
     "shell.execute_reply": "2021-12-13T13:36:26.862819Z",
     "shell.execute_reply.started": "2021-12-13T13:32:04.503378Z"
    },
    "papermill": {
     "duration": 0.037133,
     "end_time": "2021-12-13T13:36:26.862997",
     "exception": false,
     "start_time": "2021-12-13T13:36:26.825864",
     "status": "completed"
    },
    "tags": []
   },
   "outputs": [
    {
     "data": {
      "application/javascript": [
       "parent.postMessage({\"jupyterEvent\": \"custom.exercise_interaction\", \"data\": {\"outcomeType\": 1, \"valueTowardsCompletion\": 0.3333333333333333, \"interactionType\": 1, \"questionType\": 1, \"questionId\": \"2_ReadIn\", \"learnToolsVersion\": \"0.3.4\", \"failureMessage\": \"\", \"exceptionClass\": \"\", \"trace\": \"\"}}, \"*\")"
      ],
      "text/plain": [
       "<IPython.core.display.Javascript object>"
      ]
     },
     "metadata": {},
     "output_type": "display_data"
    },
    {
     "data": {
      "text/markdown": [
       "<span style=\"color:#33cc33\">Correct</span>"
      ],
      "text/plain": [
       "Correct"
      ]
     },
     "metadata": {},
     "output_type": "display_data"
    }
   ],
   "source": [
    "# (Optional) Use this code cell for any additional work.\n",
    "police_killings.head(5)\n",
    "q2.check()"
   ]
  },
  {
   "cell_type": "code",
   "execution_count": 12,
   "id": "acbdd27f",
   "metadata": {
    "execution": {
     "iopub.execute_input": "2021-12-13T13:36:26.914433Z",
     "iopub.status.busy": "2021-12-13T13:36:26.913465Z",
     "iopub.status.idle": "2021-12-13T13:36:26.931200Z",
     "shell.execute_reply": "2021-12-13T13:36:26.931657Z",
     "shell.execute_reply.started": "2021-12-13T13:35:43.354787Z"
    },
    "papermill": {
     "duration": 0.045346,
     "end_time": "2021-12-13T13:36:26.931843",
     "exception": false,
     "start_time": "2021-12-13T13:36:26.886497",
     "status": "completed"
    },
    "tags": []
   },
   "outputs": [
    {
     "data": {
      "text/html": [
       "<div>\n",
       "<style scoped>\n",
       "    .dataframe tbody tr th:only-of-type {\n",
       "        vertical-align: middle;\n",
       "    }\n",
       "\n",
       "    .dataframe tbody tr th {\n",
       "        vertical-align: top;\n",
       "    }\n",
       "\n",
       "    .dataframe thead th {\n",
       "        text-align: right;\n",
       "    }\n",
       "</style>\n",
       "<table border=\"1\" class=\"dataframe\">\n",
       "  <thead>\n",
       "    <tr style=\"text-align: right;\">\n",
       "      <th></th>\n",
       "      <th>id</th>\n",
       "      <th>name</th>\n",
       "      <th>date</th>\n",
       "      <th>manner_of_death</th>\n",
       "      <th>armed</th>\n",
       "      <th>age</th>\n",
       "      <th>gender</th>\n",
       "      <th>race</th>\n",
       "      <th>city</th>\n",
       "      <th>state</th>\n",
       "      <th>signs_of_mental_illness</th>\n",
       "      <th>threat_level</th>\n",
       "      <th>flee</th>\n",
       "      <th>body_camera</th>\n",
       "    </tr>\n",
       "  </thead>\n",
       "  <tbody>\n",
       "    <tr>\n",
       "      <th>0</th>\n",
       "      <td>3</td>\n",
       "      <td>Tim Elliot</td>\n",
       "      <td>02/01/15</td>\n",
       "      <td>shot</td>\n",
       "      <td>gun</td>\n",
       "      <td>53.0</td>\n",
       "      <td>M</td>\n",
       "      <td>A</td>\n",
       "      <td>Shelton</td>\n",
       "      <td>WA</td>\n",
       "      <td>True</td>\n",
       "      <td>attack</td>\n",
       "      <td>Not fleeing</td>\n",
       "      <td>False</td>\n",
       "    </tr>\n",
       "    <tr>\n",
       "      <th>1</th>\n",
       "      <td>4</td>\n",
       "      <td>Lewis Lee Lembke</td>\n",
       "      <td>02/01/15</td>\n",
       "      <td>shot</td>\n",
       "      <td>gun</td>\n",
       "      <td>47.0</td>\n",
       "      <td>M</td>\n",
       "      <td>W</td>\n",
       "      <td>Aloha</td>\n",
       "      <td>OR</td>\n",
       "      <td>False</td>\n",
       "      <td>attack</td>\n",
       "      <td>Not fleeing</td>\n",
       "      <td>False</td>\n",
       "    </tr>\n",
       "    <tr>\n",
       "      <th>2</th>\n",
       "      <td>5</td>\n",
       "      <td>John Paul Quintero</td>\n",
       "      <td>03/01/15</td>\n",
       "      <td>shot and Tasered</td>\n",
       "      <td>unarmed</td>\n",
       "      <td>23.0</td>\n",
       "      <td>M</td>\n",
       "      <td>H</td>\n",
       "      <td>Wichita</td>\n",
       "      <td>KS</td>\n",
       "      <td>False</td>\n",
       "      <td>other</td>\n",
       "      <td>Not fleeing</td>\n",
       "      <td>False</td>\n",
       "    </tr>\n",
       "    <tr>\n",
       "      <th>3</th>\n",
       "      <td>8</td>\n",
       "      <td>Matthew Hoffman</td>\n",
       "      <td>04/01/15</td>\n",
       "      <td>shot</td>\n",
       "      <td>toy weapon</td>\n",
       "      <td>32.0</td>\n",
       "      <td>M</td>\n",
       "      <td>W</td>\n",
       "      <td>San Francisco</td>\n",
       "      <td>CA</td>\n",
       "      <td>True</td>\n",
       "      <td>attack</td>\n",
       "      <td>Not fleeing</td>\n",
       "      <td>False</td>\n",
       "    </tr>\n",
       "    <tr>\n",
       "      <th>4</th>\n",
       "      <td>9</td>\n",
       "      <td>Michael Rodriguez</td>\n",
       "      <td>04/01/15</td>\n",
       "      <td>shot</td>\n",
       "      <td>nail gun</td>\n",
       "      <td>39.0</td>\n",
       "      <td>M</td>\n",
       "      <td>H</td>\n",
       "      <td>Evans</td>\n",
       "      <td>CO</td>\n",
       "      <td>False</td>\n",
       "      <td>attack</td>\n",
       "      <td>Not fleeing</td>\n",
       "      <td>False</td>\n",
       "    </tr>\n",
       "  </tbody>\n",
       "</table>\n",
       "</div>"
      ],
      "text/plain": [
       "   id                name      date   manner_of_death       armed   age  \\\n",
       "0   3          Tim Elliot  02/01/15              shot         gun  53.0   \n",
       "1   4    Lewis Lee Lembke  02/01/15              shot         gun  47.0   \n",
       "2   5  John Paul Quintero  03/01/15  shot and Tasered     unarmed  23.0   \n",
       "3   8     Matthew Hoffman  04/01/15              shot  toy weapon  32.0   \n",
       "4   9   Michael Rodriguez  04/01/15              shot    nail gun  39.0   \n",
       "\n",
       "  gender race           city state  signs_of_mental_illness threat_level  \\\n",
       "0      M    A        Shelton    WA                     True       attack   \n",
       "1      M    W          Aloha    OR                    False       attack   \n",
       "2      M    H        Wichita    KS                    False        other   \n",
       "3      M    W  San Francisco    CA                     True       attack   \n",
       "4      M    H          Evans    CO                    False       attack   \n",
       "\n",
       "          flee  body_camera  \n",
       "0  Not fleeing        False  \n",
       "1  Not fleeing        False  \n",
       "2  Not fleeing        False  \n",
       "3  Not fleeing        False  \n",
       "4  Not fleeing        False  "
      ]
     },
     "execution_count": 12,
     "metadata": {},
     "output_type": "execute_result"
    }
   ],
   "source": [
    "police_killings.head(5)"
   ]
  },
  {
   "cell_type": "code",
   "execution_count": 13,
   "id": "8e5a89ee",
   "metadata": {
    "execution": {
     "iopub.execute_input": "2021-12-13T13:36:26.984396Z",
     "iopub.status.busy": "2021-12-13T13:36:26.983776Z",
     "iopub.status.idle": "2021-12-13T13:36:26.987154Z",
     "shell.execute_reply": "2021-12-13T13:36:26.986539Z"
    },
    "papermill": {
     "duration": 0.031105,
     "end_time": "2021-12-13T13:36:26.987302",
     "exception": false,
     "start_time": "2021-12-13T13:36:26.956197",
     "status": "completed"
    },
    "tags": []
   },
   "outputs": [],
   "source": [
    "# Lines below will give you a hint or solution code\n",
    "#q2.hint()\n",
    "#q2.solution()"
   ]
  },
  {
   "cell_type": "markdown",
   "id": "525674ff",
   "metadata": {
    "papermill": {
     "duration": 0.02387,
     "end_time": "2021-12-13T13:36:27.034552",
     "exception": false,
     "start_time": "2021-12-13T13:36:27.010682",
     "status": "completed"
    },
    "tags": []
   },
   "source": [
    "# 3) Saving your files with UTF-8 encoding\n",
    "\n",
    "Save a version of the police killings dataset to CSV with UTF-8 encoding.  Your answer will be marked correct after saving this file.  \n",
    "\n",
    "Note: When using the `to_csv()` method, supply only the name of the file (e.g., `\"my_file.csv\"`).  This saves the file at the filepath `\"/kaggle/working/my_file.csv\"`."
   ]
  },
  {
   "cell_type": "code",
   "execution_count": 14,
   "id": "b639fafe",
   "metadata": {
    "execution": {
     "iopub.execute_input": "2021-12-13T13:36:27.087436Z",
     "iopub.status.busy": "2021-12-13T13:36:27.086724Z",
     "iopub.status.idle": "2021-12-13T13:36:27.136003Z",
     "shell.execute_reply": "2021-12-13T13:36:27.135363Z",
     "shell.execute_reply.started": "2021-12-13T13:35:04.794176Z"
    },
    "papermill": {
     "duration": 0.077605,
     "end_time": "2021-12-13T13:36:27.136150",
     "exception": false,
     "start_time": "2021-12-13T13:36:27.058545",
     "status": "completed"
    },
    "tags": []
   },
   "outputs": [
    {
     "data": {
      "application/javascript": [
       "parent.postMessage({\"jupyterEvent\": \"custom.exercise_interaction\", \"data\": {\"outcomeType\": 1, \"valueTowardsCompletion\": 0.3333333333333333, \"interactionType\": 1, \"questionType\": 2, \"questionId\": \"3_SaveCSV\", \"learnToolsVersion\": \"0.3.4\", \"failureMessage\": \"\", \"exceptionClass\": \"\", \"trace\": \"\"}}, \"*\")"
      ],
      "text/plain": [
       "<IPython.core.display.Javascript object>"
      ]
     },
     "metadata": {},
     "output_type": "display_data"
    },
    {
     "data": {
      "text/markdown": [
       "<span style=\"color:#33cc33\">Correct</span>"
      ],
      "text/plain": [
       "Correct"
      ]
     },
     "metadata": {},
     "output_type": "display_data"
    }
   ],
   "source": [
    "# TODO: Save the police killings dataset to CSV\n",
    "police_killings.to_csv(\"my_file-utg8.csv\")\n",
    "\n",
    "# Check your answer\n",
    "q3.check()"
   ]
  },
  {
   "cell_type": "code",
   "execution_count": 15,
   "id": "340b987a",
   "metadata": {
    "execution": {
     "iopub.execute_input": "2021-12-13T13:36:27.192289Z",
     "iopub.status.busy": "2021-12-13T13:36:27.191354Z",
     "iopub.status.idle": "2021-12-13T13:36:27.194956Z",
     "shell.execute_reply": "2021-12-13T13:36:27.194367Z",
     "shell.execute_reply.started": "2021-12-13T13:35:53.403883Z"
    },
    "papermill": {
     "duration": 0.033178,
     "end_time": "2021-12-13T13:36:27.195102",
     "exception": false,
     "start_time": "2021-12-13T13:36:27.161924",
     "status": "completed"
    },
    "tags": []
   },
   "outputs": [],
   "source": [
    "# Lines below will give you a hint or solution code\n",
    "#q3.hint()\n",
    "#q3.solution()"
   ]
  },
  {
   "cell_type": "markdown",
   "id": "62ff6f82",
   "metadata": {
    "papermill": {
     "duration": 0.024085,
     "end_time": "2021-12-13T13:36:27.244146",
     "exception": false,
     "start_time": "2021-12-13T13:36:27.220061",
     "status": "completed"
    },
    "tags": []
   },
   "source": [
    "# (Optional) More practice\n",
    "\n",
    "Check out [this dataset of files in different character encodings](https://www.kaggle.com/rtatman/character-encoding-examples). Can you read in all the files with their original encodings and them save them out as UTF-8 files?\n",
    "\n",
    "If you have a file that's in UTF-8 but has just a couple of weird-looking characters in it, you can try out the [ftfy module](https://ftfy.readthedocs.io/en/latest/#) and see if it helps. \n",
    "\n",
    "# Keep going\n",
    "\n",
    "In the final lesson, learn how to [**clean up inconsistent text entries**](https://www.kaggle.com/alexisbcook/inconsistent-data-entry) in your dataset."
   ]
  },
  {
   "cell_type": "markdown",
   "id": "501066c6",
   "metadata": {
    "papermill": {
     "duration": 0.023947,
     "end_time": "2021-12-13T13:36:27.292578",
     "exception": false,
     "start_time": "2021-12-13T13:36:27.268631",
     "status": "completed"
    },
    "tags": []
   },
   "source": [
    "---\n",
    "\n",
    "\n",
    "\n",
    "\n",
    "*Have questions or comments? Visit the [course discussion forum](https://www.kaggle.com/learn/data-cleaning/discussion) to chat with other learners.*"
   ]
  }
 ],
 "metadata": {
  "kernelspec": {
   "display_name": "Python 3",
   "language": "python",
   "name": "python3"
  },
  "language_info": {
   "codemirror_mode": {
    "name": "ipython",
    "version": 3
   },
   "file_extension": ".py",
   "mimetype": "text/x-python",
   "name": "python",
   "nbconvert_exporter": "python",
   "pygments_lexer": "ipython3",
   "version": "3.7.12"
  },
  "papermill": {
   "default_parameters": {},
   "duration": 12.827042,
   "end_time": "2021-12-13T13:36:28.029836",
   "environment_variables": {},
   "exception": null,
   "input_path": "__notebook__.ipynb",
   "output_path": "__notebook__.ipynb",
   "parameters": {},
   "start_time": "2021-12-13T13:36:15.202794",
   "version": "2.3.3"
  }
 },
 "nbformat": 4,
 "nbformat_minor": 5
}
