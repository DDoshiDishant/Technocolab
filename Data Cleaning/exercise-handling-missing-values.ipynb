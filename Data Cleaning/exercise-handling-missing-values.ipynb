{
 "cells": [
  {
   "cell_type": "markdown",
   "id": "1cb8eb1c",
   "metadata": {
    "papermill": {
     "duration": 0.02183,
     "end_time": "2021-12-13T09:18:56.222601",
     "exception": false,
     "start_time": "2021-12-13T09:18:56.200771",
     "status": "completed"
    },
    "tags": []
   },
   "source": [
    "**This notebook is an exercise in the [Data Cleaning](https://www.kaggle.com/learn/data-cleaning) course.  You can reference the tutorial at [this link](https://www.kaggle.com/alexisbcook/handling-missing-values).**\n",
    "\n",
    "---\n"
   ]
  },
  {
   "cell_type": "markdown",
   "id": "343a817f",
   "metadata": {
    "papermill": {
     "duration": 0.01937,
     "end_time": "2021-12-13T09:18:56.262656",
     "exception": false,
     "start_time": "2021-12-13T09:18:56.243286",
     "status": "completed"
    },
    "tags": []
   },
   "source": [
    "In this exercise, you'll apply what you learned in the **Handling missing values** tutorial.\n",
    "\n",
    "# Setup\n",
    "\n",
    "The questions below will give you feedback on your work. Run the following cell to set up the feedback system."
   ]
  },
  {
   "cell_type": "code",
   "execution_count": 1,
   "id": "c519d154",
   "metadata": {
    "execution": {
     "iopub.execute_input": "2021-12-13T09:18:56.316812Z",
     "iopub.status.busy": "2021-12-13T09:18:56.316133Z",
     "iopub.status.idle": "2021-12-13T09:19:01.897245Z",
     "shell.execute_reply": "2021-12-13T09:19:01.897941Z",
     "shell.execute_reply.started": "2021-12-13T09:17:23.502121Z"
    },
    "papermill": {
     "duration": 5.615482,
     "end_time": "2021-12-13T09:19:01.898252",
     "exception": false,
     "start_time": "2021-12-13T09:18:56.282770",
     "status": "completed"
    },
    "tags": []
   },
   "outputs": [
    {
     "name": "stderr",
     "output_type": "stream",
     "text": [
      "/opt/conda/lib/python3.7/site-packages/ipykernel_launcher.py:3: DtypeWarning: Columns (22,32) have mixed types.Specify dtype option on import or set low_memory=False.\n",
      "  This is separate from the ipykernel package so we can avoid doing imports until\n"
     ]
    },
    {
     "name": "stdout",
     "output_type": "stream",
     "text": [
      "Setup Complete\n"
     ]
    }
   ],
   "source": [
    "from learntools.core import binder\n",
    "binder.bind(globals())\n",
    "from learntools.data_cleaning.ex1 import *\n",
    "print(\"Setup Complete\")"
   ]
  },
  {
   "cell_type": "markdown",
   "id": "504ba426",
   "metadata": {
    "papermill": {
     "duration": 0.020192,
     "end_time": "2021-12-13T09:19:01.941913",
     "exception": false,
     "start_time": "2021-12-13T09:19:01.921721",
     "status": "completed"
    },
    "tags": []
   },
   "source": [
    "# 1) Take a first look at the data\n",
    "\n",
    "Run the next code cell to load in the libraries and dataset you'll use to complete the exercise."
   ]
  },
  {
   "cell_type": "code",
   "execution_count": 2,
   "id": "8930bdd3",
   "metadata": {
    "execution": {
     "iopub.execute_input": "2021-12-13T09:19:01.987514Z",
     "iopub.status.busy": "2021-12-13T09:19:01.986788Z",
     "iopub.status.idle": "2021-12-13T09:19:04.165005Z",
     "shell.execute_reply": "2021-12-13T09:19:04.164387Z",
     "shell.execute_reply.started": "2021-12-13T09:17:28.940232Z"
    },
    "papermill": {
     "duration": 2.20193,
     "end_time": "2021-12-13T09:19:04.165164",
     "exception": false,
     "start_time": "2021-12-13T09:19:01.963234",
     "status": "completed"
    },
    "tags": []
   },
   "outputs": [
    {
     "name": "stderr",
     "output_type": "stream",
     "text": [
      "/opt/conda/lib/python3.7/site-packages/IPython/core/interactiveshell.py:3444: DtypeWarning: Columns (22,32) have mixed types.Specify dtype option on import or set low_memory=False.\n",
      "  exec(code_obj, self.user_global_ns, self.user_ns)\n"
     ]
    }
   ],
   "source": [
    "# modules we'll use\n",
    "import pandas as pd\n",
    "import numpy as np\n",
    "\n",
    "# read in all our data\n",
    "sf_permits = pd.read_csv(\"../input/building-permit-applications-data/Building_Permits.csv\")\n",
    "\n",
    "# set seed for reproducibility\n",
    "np.random.seed(0) "
   ]
  },
  {
   "cell_type": "markdown",
   "id": "56d24d48",
   "metadata": {
    "papermill": {
     "duration": 0.022103,
     "end_time": "2021-12-13T09:19:04.208476",
     "exception": false,
     "start_time": "2021-12-13T09:19:04.186373",
     "status": "completed"
    },
    "tags": []
   },
   "source": [
    "Use the code cell below to print the first five rows of the `sf_permits` DataFrame."
   ]
  },
  {
   "cell_type": "code",
   "execution_count": 3,
   "id": "a640b18f",
   "metadata": {
    "execution": {
     "iopub.execute_input": "2021-12-13T09:19:04.262761Z",
     "iopub.status.busy": "2021-12-13T09:19:04.254774Z",
     "iopub.status.idle": "2021-12-13T09:19:04.292313Z",
     "shell.execute_reply": "2021-12-13T09:19:04.292850Z",
     "shell.execute_reply.started": "2021-12-13T09:17:30.796561Z"
    },
    "papermill": {
     "duration": 0.062721,
     "end_time": "2021-12-13T09:19:04.293049",
     "exception": false,
     "start_time": "2021-12-13T09:19:04.230328",
     "status": "completed"
    },
    "tags": []
   },
   "outputs": [
    {
     "data": {
      "text/html": [
       "<div>\n",
       "<style scoped>\n",
       "    .dataframe tbody tr th:only-of-type {\n",
       "        vertical-align: middle;\n",
       "    }\n",
       "\n",
       "    .dataframe tbody tr th {\n",
       "        vertical-align: top;\n",
       "    }\n",
       "\n",
       "    .dataframe thead th {\n",
       "        text-align: right;\n",
       "    }\n",
       "</style>\n",
       "<table border=\"1\" class=\"dataframe\">\n",
       "  <thead>\n",
       "    <tr style=\"text-align: right;\">\n",
       "      <th></th>\n",
       "      <th>Permit Number</th>\n",
       "      <th>Permit Type</th>\n",
       "      <th>Permit Type Definition</th>\n",
       "      <th>Permit Creation Date</th>\n",
       "      <th>Block</th>\n",
       "      <th>Lot</th>\n",
       "      <th>Street Number</th>\n",
       "      <th>Street Number Suffix</th>\n",
       "      <th>Street Name</th>\n",
       "      <th>Street Suffix</th>\n",
       "      <th>...</th>\n",
       "      <th>Existing Construction Type</th>\n",
       "      <th>Existing Construction Type Description</th>\n",
       "      <th>Proposed Construction Type</th>\n",
       "      <th>Proposed Construction Type Description</th>\n",
       "      <th>Site Permit</th>\n",
       "      <th>Supervisor District</th>\n",
       "      <th>Neighborhoods - Analysis Boundaries</th>\n",
       "      <th>Zipcode</th>\n",
       "      <th>Location</th>\n",
       "      <th>Record ID</th>\n",
       "    </tr>\n",
       "  </thead>\n",
       "  <tbody>\n",
       "    <tr>\n",
       "      <th>0</th>\n",
       "      <td>201505065519</td>\n",
       "      <td>4</td>\n",
       "      <td>sign - erect</td>\n",
       "      <td>05/06/2015</td>\n",
       "      <td>0326</td>\n",
       "      <td>023</td>\n",
       "      <td>140</td>\n",
       "      <td>NaN</td>\n",
       "      <td>Ellis</td>\n",
       "      <td>St</td>\n",
       "      <td>...</td>\n",
       "      <td>3.0</td>\n",
       "      <td>constr type 3</td>\n",
       "      <td>NaN</td>\n",
       "      <td>NaN</td>\n",
       "      <td>NaN</td>\n",
       "      <td>3.0</td>\n",
       "      <td>Tenderloin</td>\n",
       "      <td>94102.0</td>\n",
       "      <td>(37.785719256680785, -122.40852313194863)</td>\n",
       "      <td>1380611233945</td>\n",
       "    </tr>\n",
       "    <tr>\n",
       "      <th>1</th>\n",
       "      <td>201604195146</td>\n",
       "      <td>4</td>\n",
       "      <td>sign - erect</td>\n",
       "      <td>04/19/2016</td>\n",
       "      <td>0306</td>\n",
       "      <td>007</td>\n",
       "      <td>440</td>\n",
       "      <td>NaN</td>\n",
       "      <td>Geary</td>\n",
       "      <td>St</td>\n",
       "      <td>...</td>\n",
       "      <td>3.0</td>\n",
       "      <td>constr type 3</td>\n",
       "      <td>NaN</td>\n",
       "      <td>NaN</td>\n",
       "      <td>NaN</td>\n",
       "      <td>3.0</td>\n",
       "      <td>Tenderloin</td>\n",
       "      <td>94102.0</td>\n",
       "      <td>(37.78733980600732, -122.41063199757738)</td>\n",
       "      <td>1420164406718</td>\n",
       "    </tr>\n",
       "    <tr>\n",
       "      <th>2</th>\n",
       "      <td>201605278609</td>\n",
       "      <td>3</td>\n",
       "      <td>additions alterations or repairs</td>\n",
       "      <td>05/27/2016</td>\n",
       "      <td>0595</td>\n",
       "      <td>203</td>\n",
       "      <td>1647</td>\n",
       "      <td>NaN</td>\n",
       "      <td>Pacific</td>\n",
       "      <td>Av</td>\n",
       "      <td>...</td>\n",
       "      <td>1.0</td>\n",
       "      <td>constr type 1</td>\n",
       "      <td>1.0</td>\n",
       "      <td>constr type 1</td>\n",
       "      <td>NaN</td>\n",
       "      <td>3.0</td>\n",
       "      <td>Russian Hill</td>\n",
       "      <td>94109.0</td>\n",
       "      <td>(37.7946573324287, -122.42232562979227)</td>\n",
       "      <td>1424856504716</td>\n",
       "    </tr>\n",
       "    <tr>\n",
       "      <th>3</th>\n",
       "      <td>201611072166</td>\n",
       "      <td>8</td>\n",
       "      <td>otc alterations permit</td>\n",
       "      <td>11/07/2016</td>\n",
       "      <td>0156</td>\n",
       "      <td>011</td>\n",
       "      <td>1230</td>\n",
       "      <td>NaN</td>\n",
       "      <td>Pacific</td>\n",
       "      <td>Av</td>\n",
       "      <td>...</td>\n",
       "      <td>5.0</td>\n",
       "      <td>wood frame (5)</td>\n",
       "      <td>5.0</td>\n",
       "      <td>wood frame (5)</td>\n",
       "      <td>NaN</td>\n",
       "      <td>3.0</td>\n",
       "      <td>Nob Hill</td>\n",
       "      <td>94109.0</td>\n",
       "      <td>(37.79595867909168, -122.41557405519474)</td>\n",
       "      <td>1443574295566</td>\n",
       "    </tr>\n",
       "    <tr>\n",
       "      <th>4</th>\n",
       "      <td>201611283529</td>\n",
       "      <td>6</td>\n",
       "      <td>demolitions</td>\n",
       "      <td>11/28/2016</td>\n",
       "      <td>0342</td>\n",
       "      <td>001</td>\n",
       "      <td>950</td>\n",
       "      <td>NaN</td>\n",
       "      <td>Market</td>\n",
       "      <td>St</td>\n",
       "      <td>...</td>\n",
       "      <td>3.0</td>\n",
       "      <td>constr type 3</td>\n",
       "      <td>NaN</td>\n",
       "      <td>NaN</td>\n",
       "      <td>NaN</td>\n",
       "      <td>6.0</td>\n",
       "      <td>Tenderloin</td>\n",
       "      <td>94102.0</td>\n",
       "      <td>(37.78315261897309, -122.40950883997789)</td>\n",
       "      <td>144548169992</td>\n",
       "    </tr>\n",
       "  </tbody>\n",
       "</table>\n",
       "<p>5 rows × 43 columns</p>\n",
       "</div>"
      ],
      "text/plain": [
       "  Permit Number  Permit Type            Permit Type Definition  \\\n",
       "0  201505065519            4                      sign - erect   \n",
       "1  201604195146            4                      sign - erect   \n",
       "2  201605278609            3  additions alterations or repairs   \n",
       "3  201611072166            8            otc alterations permit   \n",
       "4  201611283529            6                       demolitions   \n",
       "\n",
       "  Permit Creation Date Block  Lot  Street Number Street Number Suffix  \\\n",
       "0           05/06/2015  0326  023            140                  NaN   \n",
       "1           04/19/2016  0306  007            440                  NaN   \n",
       "2           05/27/2016  0595  203           1647                  NaN   \n",
       "3           11/07/2016  0156  011           1230                  NaN   \n",
       "4           11/28/2016  0342  001            950                  NaN   \n",
       "\n",
       "  Street Name Street Suffix  ...  Existing Construction Type  \\\n",
       "0       Ellis            St  ...                         3.0   \n",
       "1       Geary            St  ...                         3.0   \n",
       "2     Pacific            Av  ...                         1.0   \n",
       "3     Pacific            Av  ...                         5.0   \n",
       "4      Market            St  ...                         3.0   \n",
       "\n",
       "  Existing Construction Type Description Proposed Construction Type  \\\n",
       "0                          constr type 3                        NaN   \n",
       "1                          constr type 3                        NaN   \n",
       "2                          constr type 1                        1.0   \n",
       "3                         wood frame (5)                        5.0   \n",
       "4                          constr type 3                        NaN   \n",
       "\n",
       "  Proposed Construction Type Description Site Permit Supervisor District  \\\n",
       "0                                    NaN         NaN                 3.0   \n",
       "1                                    NaN         NaN                 3.0   \n",
       "2                          constr type 1         NaN                 3.0   \n",
       "3                         wood frame (5)         NaN                 3.0   \n",
       "4                                    NaN         NaN                 6.0   \n",
       "\n",
       "  Neighborhoods - Analysis Boundaries  Zipcode  \\\n",
       "0                          Tenderloin  94102.0   \n",
       "1                          Tenderloin  94102.0   \n",
       "2                        Russian Hill  94109.0   \n",
       "3                            Nob Hill  94109.0   \n",
       "4                          Tenderloin  94102.0   \n",
       "\n",
       "                                    Location      Record ID  \n",
       "0  (37.785719256680785, -122.40852313194863)  1380611233945  \n",
       "1   (37.78733980600732, -122.41063199757738)  1420164406718  \n",
       "2    (37.7946573324287, -122.42232562979227)  1424856504716  \n",
       "3   (37.79595867909168, -122.41557405519474)  1443574295566  \n",
       "4   (37.78315261897309, -122.40950883997789)   144548169992  \n",
       "\n",
       "[5 rows x 43 columns]"
      ]
     },
     "execution_count": 3,
     "metadata": {},
     "output_type": "execute_result"
    }
   ],
   "source": [
    "# TODO: Your code here!\n",
    "sf_permits.head(5)"
   ]
  },
  {
   "cell_type": "markdown",
   "id": "47baeb17",
   "metadata": {
    "papermill": {
     "duration": 0.021785,
     "end_time": "2021-12-13T09:19:04.336597",
     "exception": false,
     "start_time": "2021-12-13T09:19:04.314812",
     "status": "completed"
    },
    "tags": []
   },
   "source": [
    "Does the dataset have any missing values?  Once you have an answer, run the code cell below to get credit for your work."
   ]
  },
  {
   "cell_type": "code",
   "execution_count": 4,
   "id": "c53a0fc8",
   "metadata": {
    "execution": {
     "iopub.execute_input": "2021-12-13T09:19:04.396458Z",
     "iopub.status.busy": "2021-12-13T09:19:04.395390Z",
     "iopub.status.idle": "2021-12-13T09:19:04.922894Z",
     "shell.execute_reply": "2021-12-13T09:19:04.923409Z",
     "shell.execute_reply.started": "2021-12-13T09:18:12.112886Z"
    },
    "papermill": {
     "duration": 0.558251,
     "end_time": "2021-12-13T09:19:04.923591",
     "exception": false,
     "start_time": "2021-12-13T09:19:04.365340",
     "status": "completed"
    },
    "tags": []
   },
   "outputs": [
    {
     "data": {
      "application/javascript": [
       "parent.postMessage({\"jupyterEvent\": \"custom.exercise_interaction\", \"data\": {\"outcomeType\": 4, \"interactionType\": 1, \"questionType\": 1, \"questionId\": \"2_PercentMissingValues\", \"learnToolsVersion\": \"0.3.4\", \"valueTowardsCompletion\": 0.0, \"failureMessage\": \"\", \"exceptionClass\": \"\", \"trace\": \"\"}}, \"*\")"
      ],
      "text/plain": [
       "<IPython.core.display.Javascript object>"
      ]
     },
     "metadata": {},
     "output_type": "display_data"
    },
    {
     "data": {
      "text/markdown": [
       "<span style=\"color:#ccaa33\">Check:</span> When you've updated the starter code, `check()` will tell you whether your code is correct. Remember, you must create the following variable: `percent_missing`"
      ],
      "text/plain": [
       "Check: When you've updated the starter code, `check()` will tell you whether your code is correct. Remember, you must create the following variable: `percent_missing`"
      ]
     },
     "metadata": {},
     "output_type": "display_data"
    }
   ],
   "source": [
    "# Check your answer (Run this code cell to receive credit!\n",
    "missing_value_counts=sf_permits.isnull().sum()\n",
    "missing_value_counts\n",
    "q2.check()"
   ]
  },
  {
   "cell_type": "code",
   "execution_count": 5,
   "id": "5269b381",
   "metadata": {
    "execution": {
     "iopub.execute_input": "2021-12-13T09:19:04.978868Z",
     "iopub.status.busy": "2021-12-13T09:19:04.978177Z",
     "iopub.status.idle": "2021-12-13T09:19:04.981526Z",
     "shell.execute_reply": "2021-12-13T09:19:04.980962Z",
     "shell.execute_reply.started": "2021-12-13T09:17:31.365095Z"
    },
    "papermill": {
     "duration": 0.034299,
     "end_time": "2021-12-13T09:19:04.981670",
     "exception": false,
     "start_time": "2021-12-13T09:19:04.947371",
     "status": "completed"
    },
    "tags": []
   },
   "outputs": [],
   "source": [
    "# Line below will give you a hint\n",
    "#q1.hint()"
   ]
  },
  {
   "cell_type": "markdown",
   "id": "de011ab6",
   "metadata": {
    "papermill": {
     "duration": 0.026634,
     "end_time": "2021-12-13T09:19:05.031342",
     "exception": false,
     "start_time": "2021-12-13T09:19:05.004708",
     "status": "completed"
    },
    "tags": []
   },
   "source": [
    "# 2) How many missing data points do we have?\n",
    "\n",
    "What percentage of the values in the dataset are missing?  Your answer should be a number between 0 and 100.  (If 1/4 of the values in the dataset are missing, the answer is 25.)"
   ]
  },
  {
   "cell_type": "code",
   "execution_count": 6,
   "id": "26317fb9",
   "metadata": {
    "execution": {
     "iopub.execute_input": "2021-12-13T09:19:05.086236Z",
     "iopub.status.busy": "2021-12-13T09:19:05.085392Z",
     "iopub.status.idle": "2021-12-13T09:19:05.092520Z",
     "shell.execute_reply": "2021-12-13T09:19:05.091671Z",
     "shell.execute_reply.started": "2021-12-13T09:17:31.371937Z"
    },
    "papermill": {
     "duration": 0.037758,
     "end_time": "2021-12-13T09:19:05.092703",
     "exception": false,
     "start_time": "2021-12-13T09:19:05.054945",
     "status": "completed"
    },
    "tags": []
   },
   "outputs": [
    {
     "data": {
      "application/javascript": [
       "parent.postMessage({\"jupyterEvent\": \"custom.exercise_interaction\", \"data\": {\"outcomeType\": 1, \"valueTowardsCompletion\": 0.16666666666666666, \"interactionType\": 1, \"questionType\": 1, \"questionId\": \"2_PercentMissingValues\", \"learnToolsVersion\": \"0.3.4\", \"failureMessage\": \"\", \"exceptionClass\": \"\", \"trace\": \"\"}}, \"*\")"
      ],
      "text/plain": [
       "<IPython.core.display.Javascript object>"
      ]
     },
     "metadata": {},
     "output_type": "display_data"
    },
    {
     "data": {
      "text/markdown": [
       "<span style=\"color:#33cc33\">Correct</span>"
      ],
      "text/plain": [
       "Correct"
      ]
     },
     "metadata": {},
     "output_type": "display_data"
    }
   ],
   "source": [
    "# TODO: Your code here!\n",
    "total_cell=np.product(sf_permits.shape)\n",
    "total_missing=missing_value_counts.sum()\n",
    "percent_missing = (total_missing/total_cell)*100\n",
    "\n",
    "# Check your answer\n",
    "q2.check()"
   ]
  },
  {
   "cell_type": "code",
   "execution_count": 7,
   "id": "669094e0",
   "metadata": {
    "execution": {
     "iopub.execute_input": "2021-12-13T09:19:05.153335Z",
     "iopub.status.busy": "2021-12-13T09:19:05.152498Z",
     "iopub.status.idle": "2021-12-13T09:19:05.156419Z",
     "shell.execute_reply": "2021-12-13T09:19:05.155520Z",
     "shell.execute_reply.started": "2021-12-13T09:17:31.390941Z"
    },
    "papermill": {
     "duration": 0.036017,
     "end_time": "2021-12-13T09:19:05.156855",
     "exception": false,
     "start_time": "2021-12-13T09:19:05.120838",
     "status": "completed"
    },
    "tags": []
   },
   "outputs": [],
   "source": [
    "# Lines below will give you a hint or solution code\n",
    "#q2.hint()\n",
    "#q2.solution()"
   ]
  },
  {
   "cell_type": "markdown",
   "id": "0a6edeab",
   "metadata": {
    "papermill": {
     "duration": 0.024098,
     "end_time": "2021-12-13T09:19:05.204828",
     "exception": false,
     "start_time": "2021-12-13T09:19:05.180730",
     "status": "completed"
    },
    "tags": []
   },
   "source": [
    "# 3) Figure out why the data is missing\n",
    "\n",
    "Look at the columns **\"Street Number Suffix\"** and **\"Zipcode\"** from the [San Francisco Building Permits dataset](https://www.kaggle.com/aparnashastry/building-permit-applications-data). Both of these contain missing values. \n",
    "- Which, if either, are missing because they don't exist? \n",
    "- Which, if either, are missing because they weren't recorded?  \n",
    "\n",
    "Once you have an answer, run the code cell below."
   ]
  },
  {
   "cell_type": "code",
   "execution_count": 8,
   "id": "a19b2194",
   "metadata": {
    "execution": {
     "iopub.execute_input": "2021-12-13T09:19:05.261134Z",
     "iopub.status.busy": "2021-12-13T09:19:05.260393Z",
     "iopub.status.idle": "2021-12-13T09:19:05.267716Z",
     "shell.execute_reply": "2021-12-13T09:19:05.267061Z",
     "shell.execute_reply.started": "2021-12-13T09:17:31.399596Z"
    },
    "papermill": {
     "duration": 0.037934,
     "end_time": "2021-12-13T09:19:05.267861",
     "exception": false,
     "start_time": "2021-12-13T09:19:05.229927",
     "status": "completed"
    },
    "tags": []
   },
   "outputs": [
    {
     "data": {
      "application/javascript": [
       "parent.postMessage({\"jupyterEvent\": \"custom.exercise_interaction\", \"data\": {\"outcomeType\": 1, \"valueTowardsCompletion\": 0.16666666666666666, \"interactionType\": 1, \"questionType\": 4, \"questionId\": \"3_WhyDataMissing\", \"learnToolsVersion\": \"0.3.4\", \"failureMessage\": \"\", \"exceptionClass\": \"\", \"trace\": \"\"}}, \"*\")"
      ],
      "text/plain": [
       "<IPython.core.display.Javascript object>"
      ]
     },
     "metadata": {},
     "output_type": "display_data"
    },
    {
     "data": {
      "text/markdown": [
       "<span style=\"color:#33cc33\">Correct:</span> \n",
       "\n",
       "If a value in the \"Street Number Suffix\" column is missing, it is likely because it does not exist. If a value in the \"Zipcode\" column is missing, it was not recorded."
      ],
      "text/plain": [
       "Correct: \n",
       "\n",
       "If a value in the \"Street Number Suffix\" column is missing, it is likely because it does not exist. If a value in the \"Zipcode\" column is missing, it was not recorded."
      ]
     },
     "metadata": {},
     "output_type": "display_data"
    }
   ],
   "source": [
    "# Check your answer (Run this code cell to \n",
    "missing_value_counts[0:15]\n",
    "q3.check()"
   ]
  },
  {
   "cell_type": "code",
   "execution_count": 9,
   "id": "b40c67a2",
   "metadata": {
    "execution": {
     "iopub.execute_input": "2021-12-13T09:19:05.323839Z",
     "iopub.status.busy": "2021-12-13T09:19:05.322961Z",
     "iopub.status.idle": "2021-12-13T09:19:05.326218Z",
     "shell.execute_reply": "2021-12-13T09:19:05.325637Z",
     "shell.execute_reply.started": "2021-12-13T09:17:31.415650Z"
    },
    "papermill": {
     "duration": 0.032042,
     "end_time": "2021-12-13T09:19:05.326365",
     "exception": false,
     "start_time": "2021-12-13T09:19:05.294323",
     "status": "completed"
    },
    "tags": []
   },
   "outputs": [],
   "source": [
    "# Line below will give you a hint\n",
    "#q3.hint()"
   ]
  },
  {
   "cell_type": "markdown",
   "id": "0e6d3f0d",
   "metadata": {
    "papermill": {
     "duration": 0.025227,
     "end_time": "2021-12-13T09:19:05.376311",
     "exception": false,
     "start_time": "2021-12-13T09:19:05.351084",
     "status": "completed"
    },
    "tags": []
   },
   "source": [
    "# 4) Drop missing values: rows\n",
    "\n",
    "If you removed all of the rows of `sf_permits` with missing values, how many rows are left?\n",
    "\n",
    "**Note**: Do not change the value of `sf_permits` when checking this.  "
   ]
  },
  {
   "cell_type": "code",
   "execution_count": 10,
   "id": "b6bbf21b",
   "metadata": {
    "execution": {
     "iopub.execute_input": "2021-12-13T09:19:05.433946Z",
     "iopub.status.busy": "2021-12-13T09:19:05.433250Z",
     "iopub.status.idle": "2021-12-13T09:19:05.961039Z",
     "shell.execute_reply": "2021-12-13T09:19:05.960388Z",
     "shell.execute_reply.started": "2021-12-13T09:17:31.428294Z"
    },
    "papermill": {
     "duration": 0.559227,
     "end_time": "2021-12-13T09:19:05.961190",
     "exception": false,
     "start_time": "2021-12-13T09:19:05.401963",
     "status": "completed"
    },
    "tags": []
   },
   "outputs": [
    {
     "data": {
      "text/html": [
       "<div>\n",
       "<style scoped>\n",
       "    .dataframe tbody tr th:only-of-type {\n",
       "        vertical-align: middle;\n",
       "    }\n",
       "\n",
       "    .dataframe tbody tr th {\n",
       "        vertical-align: top;\n",
       "    }\n",
       "\n",
       "    .dataframe thead th {\n",
       "        text-align: right;\n",
       "    }\n",
       "</style>\n",
       "<table border=\"1\" class=\"dataframe\">\n",
       "  <thead>\n",
       "    <tr style=\"text-align: right;\">\n",
       "      <th></th>\n",
       "      <th>Permit Number</th>\n",
       "      <th>Permit Type</th>\n",
       "      <th>Permit Type Definition</th>\n",
       "      <th>Permit Creation Date</th>\n",
       "      <th>Block</th>\n",
       "      <th>Lot</th>\n",
       "      <th>Street Number</th>\n",
       "      <th>Street Number Suffix</th>\n",
       "      <th>Street Name</th>\n",
       "      <th>Street Suffix</th>\n",
       "      <th>...</th>\n",
       "      <th>Existing Construction Type</th>\n",
       "      <th>Existing Construction Type Description</th>\n",
       "      <th>Proposed Construction Type</th>\n",
       "      <th>Proposed Construction Type Description</th>\n",
       "      <th>Site Permit</th>\n",
       "      <th>Supervisor District</th>\n",
       "      <th>Neighborhoods - Analysis Boundaries</th>\n",
       "      <th>Zipcode</th>\n",
       "      <th>Location</th>\n",
       "      <th>Record ID</th>\n",
       "    </tr>\n",
       "  </thead>\n",
       "  <tbody>\n",
       "  </tbody>\n",
       "</table>\n",
       "<p>0 rows × 43 columns</p>\n",
       "</div>"
      ],
      "text/plain": [
       "Empty DataFrame\n",
       "Columns: [Permit Number, Permit Type, Permit Type Definition, Permit Creation Date, Block, Lot, Street Number, Street Number Suffix, Street Name, Street Suffix, Unit, Unit Suffix, Description, Current Status, Current Status Date, Filed Date, Issued Date, Completed Date, First Construction Document Date, Structural Notification, Number of Existing Stories, Number of Proposed Stories, Voluntary Soft-Story Retrofit, Fire Only Permit, Permit Expiration Date, Estimated Cost, Revised Cost, Existing Use, Existing Units, Proposed Use, Proposed Units, Plansets, TIDF Compliance, Existing Construction Type, Existing Construction Type Description, Proposed Construction Type, Proposed Construction Type Description, Site Permit, Supervisor District, Neighborhoods - Analysis Boundaries, Zipcode, Location, Record ID]\n",
       "Index: []\n",
       "\n",
       "[0 rows x 43 columns]"
      ]
     },
     "execution_count": 10,
     "metadata": {},
     "output_type": "execute_result"
    }
   ],
   "source": [
    "# TODO: Your code here!\n",
    "sf_permits.dropna()"
   ]
  },
  {
   "cell_type": "markdown",
   "id": "4cb67279",
   "metadata": {
    "papermill": {
     "duration": 0.025666,
     "end_time": "2021-12-13T09:19:06.012601",
     "exception": false,
     "start_time": "2021-12-13T09:19:05.986935",
     "status": "completed"
    },
    "tags": []
   },
   "source": [
    "Once you have an answer, run the code cell below."
   ]
  },
  {
   "cell_type": "code",
   "execution_count": 11,
   "id": "1bbeb06f",
   "metadata": {
    "execution": {
     "iopub.execute_input": "2021-12-13T09:19:06.070124Z",
     "iopub.status.busy": "2021-12-13T09:19:06.069453Z",
     "iopub.status.idle": "2021-12-13T09:19:06.594156Z",
     "shell.execute_reply": "2021-12-13T09:19:06.593634Z",
     "shell.execute_reply.started": "2021-12-13T09:17:31.975218Z"
    },
    "papermill": {
     "duration": 0.555357,
     "end_time": "2021-12-13T09:19:06.594300",
     "exception": false,
     "start_time": "2021-12-13T09:19:06.038943",
     "status": "completed"
    },
    "tags": []
   },
   "outputs": [
    {
     "data": {
      "application/javascript": [
       "parent.postMessage({\"jupyterEvent\": \"custom.exercise_interaction\", \"data\": {\"outcomeType\": 1, \"valueTowardsCompletion\": 0.16666666666666666, \"interactionType\": 1, \"questionType\": 4, \"questionId\": \"4_DropMissingRows\", \"learnToolsVersion\": \"0.3.4\", \"failureMessage\": \"\", \"exceptionClass\": \"\", \"trace\": \"\"}}, \"*\")"
      ],
      "text/plain": [
       "<IPython.core.display.Javascript object>"
      ]
     },
     "metadata": {},
     "output_type": "display_data"
    },
    {
     "data": {
      "text/markdown": [
       "<span style=\"color:#33cc33\">Correct:</span> \n",
       "\n",
       "There are no rows remaining in the dataset!"
      ],
      "text/plain": [
       "Correct: \n",
       "\n",
       "There are no rows remaining in the dataset!"
      ]
     },
     "metadata": {},
     "output_type": "display_data"
    }
   ],
   "source": [
    "# Check your answer (Run this code cell to receive credit!)\n",
    "sf_permits.dropna()\n",
    "q4.check()"
   ]
  },
  {
   "cell_type": "code",
   "execution_count": 12,
   "id": "f9b78d9e",
   "metadata": {
    "execution": {
     "iopub.execute_input": "2021-12-13T09:19:06.653094Z",
     "iopub.status.busy": "2021-12-13T09:19:06.652142Z",
     "iopub.status.idle": "2021-12-13T09:19:06.655104Z",
     "shell.execute_reply": "2021-12-13T09:19:06.654498Z",
     "shell.execute_reply.started": "2021-12-13T09:17:32.501796Z"
    },
    "papermill": {
     "duration": 0.033326,
     "end_time": "2021-12-13T09:19:06.655255",
     "exception": false,
     "start_time": "2021-12-13T09:19:06.621929",
     "status": "completed"
    },
    "tags": []
   },
   "outputs": [],
   "source": [
    "# Line below will give you a hint\n",
    "#q4.hint()"
   ]
  },
  {
   "cell_type": "markdown",
   "id": "959bb421",
   "metadata": {
    "papermill": {
     "duration": 0.025364,
     "end_time": "2021-12-13T09:19:06.706769",
     "exception": false,
     "start_time": "2021-12-13T09:19:06.681405",
     "status": "completed"
    },
    "tags": []
   },
   "source": [
    "# 5) Drop missing values: columns\n",
    "\n",
    "Now try removing all the columns with empty values.  \n",
    "- Create a new DataFrame called `sf_permits_with_na_dropped` that has all of the columns with empty values removed.  \n",
    "- How many columns were removed from the original `sf_permits` DataFrame? Use this number to set the value of the `dropped_columns` variable below."
   ]
  },
  {
   "cell_type": "code",
   "execution_count": 13,
   "id": "f72ba98c",
   "metadata": {
    "execution": {
     "iopub.execute_input": "2021-12-13T09:19:06.767109Z",
     "iopub.status.busy": "2021-12-13T09:19:06.766410Z",
     "iopub.status.idle": "2021-12-13T09:19:07.297275Z",
     "shell.execute_reply": "2021-12-13T09:19:07.296665Z",
     "shell.execute_reply.started": "2021-12-13T09:17:32.509573Z"
    },
    "papermill": {
     "duration": 0.564976,
     "end_time": "2021-12-13T09:19:07.297436",
     "exception": false,
     "start_time": "2021-12-13T09:19:06.732460",
     "status": "completed"
    },
    "tags": []
   },
   "outputs": [
    {
     "data": {
      "application/javascript": [
       "parent.postMessage({\"jupyterEvent\": \"custom.exercise_interaction\", \"data\": {\"outcomeType\": 1, \"valueTowardsCompletion\": 0.16666666666666666, \"interactionType\": 1, \"questionType\": 1, \"questionId\": \"5_DropMissingCols\", \"learnToolsVersion\": \"0.3.4\", \"failureMessage\": \"\", \"exceptionClass\": \"\", \"trace\": \"\"}}, \"*\")"
      ],
      "text/plain": [
       "<IPython.core.display.Javascript object>"
      ]
     },
     "metadata": {},
     "output_type": "display_data"
    },
    {
     "data": {
      "text/markdown": [
       "<span style=\"color:#33cc33\">Correct</span>"
      ],
      "text/plain": [
       "Correct"
      ]
     },
     "metadata": {},
     "output_type": "display_data"
    }
   ],
   "source": [
    "# TODO: Your code here\n",
    "sf_permits_with_na_dropped = sf_permits.dropna(axis=1)\n",
    "\n",
    "dropped_columns= 43-12\n",
    "\n",
    "# Check your answer\n",
    "q5.check()"
   ]
  },
  {
   "cell_type": "code",
   "execution_count": 14,
   "id": "d3cc2de3",
   "metadata": {
    "execution": {
     "iopub.execute_input": "2021-12-13T09:19:07.359641Z",
     "iopub.status.busy": "2021-12-13T09:19:07.359002Z",
     "iopub.status.idle": "2021-12-13T09:19:07.361316Z",
     "shell.execute_reply": "2021-12-13T09:19:07.360674Z",
     "shell.execute_reply.started": "2021-12-13T09:17:33.055990Z"
    },
    "papermill": {
     "duration": 0.035835,
     "end_time": "2021-12-13T09:19:07.361476",
     "exception": false,
     "start_time": "2021-12-13T09:19:07.325641",
     "status": "completed"
    },
    "tags": []
   },
   "outputs": [],
   "source": [
    "# Lines below will give you a hint or solution code\n",
    "#q5.hint()\n",
    "#q5.solution()"
   ]
  },
  {
   "cell_type": "markdown",
   "id": "84f28702",
   "metadata": {
    "papermill": {
     "duration": 0.027504,
     "end_time": "2021-12-13T09:19:07.415812",
     "exception": false,
     "start_time": "2021-12-13T09:19:07.388308",
     "status": "completed"
    },
    "tags": []
   },
   "source": [
    "# 6) Fill in missing values automatically\n",
    "\n",
    "Try replacing all the NaN's in the `sf_permits` data with the one that comes directly after it and then replacing any remaining NaN's with 0.  Set the result to a new DataFrame `sf_permits_with_na_imputed`."
   ]
  },
  {
   "cell_type": "code",
   "execution_count": 15,
   "id": "aae8d662",
   "metadata": {
    "execution": {
     "iopub.execute_input": "2021-12-13T09:19:07.475867Z",
     "iopub.status.busy": "2021-12-13T09:19:07.475183Z",
     "iopub.status.idle": "2021-12-13T09:19:08.928534Z",
     "shell.execute_reply": "2021-12-13T09:19:08.927999Z",
     "shell.execute_reply.started": "2021-12-13T09:17:33.060469Z"
    },
    "papermill": {
     "duration": 1.485506,
     "end_time": "2021-12-13T09:19:08.928683",
     "exception": false,
     "start_time": "2021-12-13T09:19:07.443177",
     "status": "completed"
    },
    "tags": []
   },
   "outputs": [
    {
     "data": {
      "application/javascript": [
       "parent.postMessage({\"jupyterEvent\": \"custom.exercise_interaction\", \"data\": {\"outcomeType\": 1, \"valueTowardsCompletion\": 0.16666666666666666, \"interactionType\": 1, \"questionType\": 1, \"questionId\": \"6_ImputeAutomatically\", \"learnToolsVersion\": \"0.3.4\", \"failureMessage\": \"\", \"exceptionClass\": \"\", \"trace\": \"\"}}, \"*\")"
      ],
      "text/plain": [
       "<IPython.core.display.Javascript object>"
      ]
     },
     "metadata": {},
     "output_type": "display_data"
    },
    {
     "data": {
      "text/markdown": [
       "<span style=\"color:#33cc33\">Correct</span>"
      ],
      "text/plain": [
       "Correct"
      ]
     },
     "metadata": {},
     "output_type": "display_data"
    }
   ],
   "source": [
    "# TODO: Your code here\n",
    "sf_permits_with_na_imputed = sf_permits.fillna(method='bfill',axis=0).fillna(0)\n",
    "\n",
    "# Check your answer\n",
    "q6.check()"
   ]
  },
  {
   "cell_type": "code",
   "execution_count": 16,
   "id": "84566967",
   "metadata": {
    "execution": {
     "iopub.execute_input": "2021-12-13T09:19:08.989475Z",
     "iopub.status.busy": "2021-12-13T09:19:08.988625Z",
     "iopub.status.idle": "2021-12-13T09:19:08.991771Z",
     "shell.execute_reply": "2021-12-13T09:19:08.991086Z",
     "shell.execute_reply.started": "2021-12-13T09:17:34.606139Z"
    },
    "papermill": {
     "duration": 0.035125,
     "end_time": "2021-12-13T09:19:08.991969",
     "exception": false,
     "start_time": "2021-12-13T09:19:08.956844",
     "status": "completed"
    },
    "tags": []
   },
   "outputs": [],
   "source": [
    "# Lines below will give you a hint or solution code\n",
    "#q6.hint()\n",
    "#q6.solution()"
   ]
  },
  {
   "cell_type": "markdown",
   "id": "7ca5ddce",
   "metadata": {
    "papermill": {
     "duration": 0.027594,
     "end_time": "2021-12-13T09:19:09.048607",
     "exception": false,
     "start_time": "2021-12-13T09:19:09.021013",
     "status": "completed"
    },
    "tags": []
   },
   "source": [
    "# More practice\n",
    "\n",
    "If you're looking for more practice handling missing values:\n",
    "\n",
    "* Check out [this noteboook](https://www.kaggle.com/alexisbcook/missing-values) on handling missing values using scikit-learn's imputer. \n",
    "* Look back at the \"Zipcode\" column in the `sf_permits` dataset, which has some missing values. How would you go about figuring out what the actual zipcode of each address should be? (You might try using another dataset. You can search for datasets about San Fransisco on the [Datasets listing](https://www.kaggle.com/datasets).) \n",
    "\n",
    "# Keep going\n",
    "\n",
    "In the next lesson, learn how to [**apply scaling and normalization**](https://www.kaggle.com/alexisbcook/scaling-and-normalization) to transform your data."
   ]
  },
  {
   "cell_type": "markdown",
   "id": "3e538f0e",
   "metadata": {
    "papermill": {
     "duration": 0.028055,
     "end_time": "2021-12-13T09:19:09.104477",
     "exception": false,
     "start_time": "2021-12-13T09:19:09.076422",
     "status": "completed"
    },
    "tags": []
   },
   "source": [
    "---\n",
    "\n",
    "\n",
    "\n",
    "\n",
    "*Have questions or comments? Visit the [course discussion forum](https://www.kaggle.com/learn/data-cleaning/discussion) to chat with other learners.*"
   ]
  }
 ],
 "metadata": {
  "kernelspec": {
   "display_name": "Python 3",
   "language": "python",
   "name": "python3"
  },
  "language_info": {
   "codemirror_mode": {
    "name": "ipython",
    "version": 3
   },
   "file_extension": ".py",
   "mimetype": "text/x-python",
   "name": "python",
   "nbconvert_exporter": "python",
   "pygments_lexer": "ipython3",
   "version": "3.7.12"
  },
  "papermill": {
   "default_parameters": {},
   "duration": 26.761125,
   "end_time": "2021-12-13T09:19:09.945947",
   "environment_variables": {},
   "exception": null,
   "input_path": "__notebook__.ipynb",
   "output_path": "__notebook__.ipynb",
   "parameters": {},
   "start_time": "2021-12-13T09:18:43.184822",
   "version": "2.3.3"
  }
 },
 "nbformat": 4,
 "nbformat_minor": 5
}
