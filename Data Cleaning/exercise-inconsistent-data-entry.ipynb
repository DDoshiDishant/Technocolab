{
 "cells": [
  {
   "cell_type": "markdown",
   "id": "be22471d",
   "metadata": {
    "papermill": {
     "duration": 0.019476,
     "end_time": "2021-12-13T15:54:48.246123",
     "exception": false,
     "start_time": "2021-12-13T15:54:48.226647",
     "status": "completed"
    },
    "tags": []
   },
   "source": [
    "**This notebook is an exercise in the [Data Cleaning](https://www.kaggle.com/learn/data-cleaning) course.  You can reference the tutorial at [this link](https://www.kaggle.com/alexisbcook/inconsistent-data-entry).**\n",
    "\n",
    "---\n"
   ]
  },
  {
   "cell_type": "markdown",
   "id": "8c18d955",
   "metadata": {
    "papermill": {
     "duration": 0.016939,
     "end_time": "2021-12-13T15:54:48.281451",
     "exception": false,
     "start_time": "2021-12-13T15:54:48.264512",
     "status": "completed"
    },
    "tags": []
   },
   "source": [
    "In this exercise, you'll apply what you learned in the **Inconsistent data entry** tutorial.\n",
    "\n",
    "# Setup\n",
    "\n",
    "The questions below will give you feedback on your work. Run the following cell to set up the feedback system."
   ]
  },
  {
   "cell_type": "code",
   "execution_count": 1,
   "id": "1f55e1e0",
   "metadata": {
    "execution": {
     "iopub.execute_input": "2021-12-13T15:54:48.319872Z",
     "iopub.status.busy": "2021-12-13T15:54:48.318727Z",
     "iopub.status.idle": "2021-12-13T15:54:48.418303Z",
     "shell.execute_reply": "2021-12-13T15:54:48.418806Z",
     "shell.execute_reply.started": "2021-12-13T15:46:50.049511Z"
    },
    "papermill": {
     "duration": 0.120457,
     "end_time": "2021-12-13T15:54:48.419084",
     "exception": false,
     "start_time": "2021-12-13T15:54:48.298627",
     "status": "completed"
    },
    "tags": []
   },
   "outputs": [
    {
     "name": "stdout",
     "output_type": "stream",
     "text": [
      "Setup Complete\n"
     ]
    }
   ],
   "source": [
    "from learntools.core import binder\n",
    "binder.bind(globals())\n",
    "from learntools.data_cleaning.ex5 import *\n",
    "print(\"Setup Complete\")"
   ]
  },
  {
   "cell_type": "markdown",
   "id": "e9db795d",
   "metadata": {
    "papermill": {
     "duration": 0.017784,
     "end_time": "2021-12-13T15:54:48.454886",
     "exception": false,
     "start_time": "2021-12-13T15:54:48.437102",
     "status": "completed"
    },
    "tags": []
   },
   "source": [
    "# Get our environment set up\n",
    "\n",
    "The first thing we'll need to do is load in the libraries and dataset we'll be using.  We use the same dataset from the tutorial."
   ]
  },
  {
   "cell_type": "code",
   "execution_count": 2,
   "id": "b00238f3",
   "metadata": {
    "execution": {
     "iopub.execute_input": "2021-12-13T15:54:48.493626Z",
     "iopub.status.busy": "2021-12-13T15:54:48.492997Z",
     "iopub.status.idle": "2021-12-13T15:54:48.508092Z",
     "shell.execute_reply": "2021-12-13T15:54:48.508680Z",
     "shell.execute_reply.started": "2021-12-13T15:46:50.056605Z"
    },
    "papermill": {
     "duration": 0.036362,
     "end_time": "2021-12-13T15:54:48.508865",
     "exception": false,
     "start_time": "2021-12-13T15:54:48.472503",
     "status": "completed"
    },
    "tags": []
   },
   "outputs": [],
   "source": [
    "# modules we'll use\n",
    "import pandas as pd\n",
    "import numpy as np\n",
    "\n",
    "# helpful modules\n",
    "import fuzzywuzzy\n",
    "from fuzzywuzzy import process\n",
    "import chardet\n",
    "\n",
    "# read in all our data\n",
    "professors = pd.read_csv(\"../input/pakistan-intellectual-capital/pakistan_intellectual_capital.csv\")\n",
    "\n",
    "# set seed for reproducibility\n",
    "np.random.seed(0)"
   ]
  },
  {
   "cell_type": "markdown",
   "id": "3d976eb7",
   "metadata": {
    "papermill": {
     "duration": 0.018023,
     "end_time": "2021-12-13T15:54:48.544812",
     "exception": false,
     "start_time": "2021-12-13T15:54:48.526789",
     "status": "completed"
    },
    "tags": []
   },
   "source": [
    "Next, we'll redo all of the work that we did in the tutorial."
   ]
  },
  {
   "cell_type": "code",
   "execution_count": 3,
   "id": "f237ad72",
   "metadata": {
    "execution": {
     "iopub.execute_input": "2021-12-13T15:54:48.583608Z",
     "iopub.status.busy": "2021-12-13T15:54:48.582973Z",
     "iopub.status.idle": "2021-12-13T15:54:48.599173Z",
     "shell.execute_reply": "2021-12-13T15:54:48.599631Z",
     "shell.execute_reply.started": "2021-12-13T15:46:50.082350Z"
    },
    "papermill": {
     "duration": 0.037457,
     "end_time": "2021-12-13T15:54:48.599818",
     "exception": false,
     "start_time": "2021-12-13T15:54:48.562361",
     "status": "completed"
    },
    "tags": []
   },
   "outputs": [
    {
     "name": "stdout",
     "output_type": "stream",
     "text": [
      "All done!\n"
     ]
    }
   ],
   "source": [
    "# convert to lower case\n",
    "professors['Country'] = professors['Country'].str.lower()\n",
    "# remove trailing white spaces\n",
    "professors['Country'] = professors['Country'].str.strip()\n",
    "\n",
    "# get the top 10 closest matches to \"south korea\"\n",
    "countries = professors['Country'].unique()\n",
    "matches = fuzzywuzzy.process.extract(\"south korea\", countries, limit=10, scorer=fuzzywuzzy.fuzz.token_sort_ratio)\n",
    "\n",
    "def replace_matches_in_column(df, column, string_to_match, min_ratio = 47):\n",
    "    # get a list of unique strings\n",
    "    strings = df[column].unique()\n",
    "    \n",
    "    # get the top 10 closest matches to our input string\n",
    "    matches = fuzzywuzzy.process.extract(string_to_match, strings, \n",
    "                                         limit=10, scorer=fuzzywuzzy.fuzz.token_sort_ratio)\n",
    "\n",
    "    # only get matches with a ratio > 90\n",
    "    close_matches = [matches[0] for matches in matches if matches[1] >= min_ratio]\n",
    "\n",
    "    # get the rows of all the close matches in our dataframe\n",
    "    rows_with_matches = df[column].isin(close_matches)\n",
    "\n",
    "    # replace all rows with close matches with the input matches \n",
    "    df.loc[rows_with_matches, column] = string_to_match\n",
    "    \n",
    "    # let us know the function's done\n",
    "    print(\"All done!\")\n",
    "    \n",
    "replace_matches_in_column(df=professors, column='Country', string_to_match=\"south korea\")\n",
    "countries = professors['Country'].unique()"
   ]
  },
  {
   "cell_type": "code",
   "execution_count": 4,
   "id": "4832b7f3",
   "metadata": {
    "execution": {
     "iopub.execute_input": "2021-12-13T15:54:48.646678Z",
     "iopub.status.busy": "2021-12-13T15:54:48.646062Z",
     "iopub.status.idle": "2021-12-13T15:54:48.671010Z",
     "shell.execute_reply": "2021-12-13T15:54:48.670483Z",
     "shell.execute_reply.started": "2021-12-13T15:46:50.099958Z"
    },
    "papermill": {
     "duration": 0.05281,
     "end_time": "2021-12-13T15:54:48.671145",
     "exception": false,
     "start_time": "2021-12-13T15:54:48.618335",
     "status": "completed"
    },
    "tags": []
   },
   "outputs": [
    {
     "data": {
      "text/html": [
       "<div>\n",
       "<style scoped>\n",
       "    .dataframe tbody tr th:only-of-type {\n",
       "        vertical-align: middle;\n",
       "    }\n",
       "\n",
       "    .dataframe tbody tr th {\n",
       "        vertical-align: top;\n",
       "    }\n",
       "\n",
       "    .dataframe thead th {\n",
       "        text-align: right;\n",
       "    }\n",
       "</style>\n",
       "<table border=\"1\" class=\"dataframe\">\n",
       "  <thead>\n",
       "    <tr style=\"text-align: right;\">\n",
       "      <th></th>\n",
       "      <th>Unnamed: 0</th>\n",
       "      <th>S#</th>\n",
       "      <th>Teacher Name</th>\n",
       "      <th>University Currently Teaching</th>\n",
       "      <th>Department</th>\n",
       "      <th>Province University Located</th>\n",
       "      <th>Designation</th>\n",
       "      <th>Terminal Degree</th>\n",
       "      <th>Graduated from</th>\n",
       "      <th>Country</th>\n",
       "      <th>Year</th>\n",
       "      <th>Area of Specialization/Research Interests</th>\n",
       "      <th>Other Information</th>\n",
       "    </tr>\n",
       "  </thead>\n",
       "  <tbody>\n",
       "    <tr>\n",
       "      <th>0</th>\n",
       "      <td>2</td>\n",
       "      <td>3</td>\n",
       "      <td>Dr. Abdul Basit</td>\n",
       "      <td>University of Balochistan</td>\n",
       "      <td>Computer Science &amp; IT</td>\n",
       "      <td>Balochistan</td>\n",
       "      <td>Assistant Professor</td>\n",
       "      <td>PhD</td>\n",
       "      <td>Asian Institute of Technology</td>\n",
       "      <td>thailand</td>\n",
       "      <td>NaN</td>\n",
       "      <td>Software Engineering &amp; DBMS</td>\n",
       "      <td>NaN</td>\n",
       "    </tr>\n",
       "    <tr>\n",
       "      <th>1</th>\n",
       "      <td>4</td>\n",
       "      <td>5</td>\n",
       "      <td>Dr. Waheed Noor</td>\n",
       "      <td>University of Balochistan</td>\n",
       "      <td>Computer Science &amp; IT</td>\n",
       "      <td>Balochistan</td>\n",
       "      <td>Assistant Professor</td>\n",
       "      <td>PhD</td>\n",
       "      <td>Asian Institute of Technology</td>\n",
       "      <td>thailand</td>\n",
       "      <td>NaN</td>\n",
       "      <td>DBMS</td>\n",
       "      <td>NaN</td>\n",
       "    </tr>\n",
       "    <tr>\n",
       "      <th>2</th>\n",
       "      <td>5</td>\n",
       "      <td>6</td>\n",
       "      <td>Dr. Junaid Baber</td>\n",
       "      <td>University of Balochistan</td>\n",
       "      <td>Computer Science &amp; IT</td>\n",
       "      <td>Balochistan</td>\n",
       "      <td>Assistant Professor</td>\n",
       "      <td>PhD</td>\n",
       "      <td>Asian Institute of Technology</td>\n",
       "      <td>thailand</td>\n",
       "      <td>NaN</td>\n",
       "      <td>Information processing, Multimedia mining</td>\n",
       "      <td>NaN</td>\n",
       "    </tr>\n",
       "    <tr>\n",
       "      <th>3</th>\n",
       "      <td>6</td>\n",
       "      <td>7</td>\n",
       "      <td>Dr. Maheen Bakhtyar</td>\n",
       "      <td>University of Balochistan</td>\n",
       "      <td>Computer Science &amp; IT</td>\n",
       "      <td>Balochistan</td>\n",
       "      <td>Assistant Professor</td>\n",
       "      <td>PhD</td>\n",
       "      <td>Asian Institute of Technology</td>\n",
       "      <td>thailand</td>\n",
       "      <td>NaN</td>\n",
       "      <td>NLP, Information Retrieval, Question Answering...</td>\n",
       "      <td>NaN</td>\n",
       "    </tr>\n",
       "    <tr>\n",
       "      <th>4</th>\n",
       "      <td>24</td>\n",
       "      <td>25</td>\n",
       "      <td>Samina Azim</td>\n",
       "      <td>Sardar Bahadur Khan Women's University</td>\n",
       "      <td>Computer Science</td>\n",
       "      <td>Balochistan</td>\n",
       "      <td>Lecturer</td>\n",
       "      <td>BS</td>\n",
       "      <td>Balochistan University of Information Technolo...</td>\n",
       "      <td>pakistan</td>\n",
       "      <td>2005.0</td>\n",
       "      <td>VLSI Electronics DLD Database</td>\n",
       "      <td>NaN</td>\n",
       "    </tr>\n",
       "    <tr>\n",
       "      <th>...</th>\n",
       "      <td>...</td>\n",
       "      <td>...</td>\n",
       "      <td>...</td>\n",
       "      <td>...</td>\n",
       "      <td>...</td>\n",
       "      <td>...</td>\n",
       "      <td>...</td>\n",
       "      <td>...</td>\n",
       "      <td>...</td>\n",
       "      <td>...</td>\n",
       "      <td>...</td>\n",
       "      <td>...</td>\n",
       "      <td>...</td>\n",
       "    </tr>\n",
       "    <tr>\n",
       "      <th>1137</th>\n",
       "      <td>1974</td>\n",
       "      <td>1975</td>\n",
       "      <td>Dr. Ahmar Rashid</td>\n",
       "      <td>Ghulam Ishaq Khan Institute</td>\n",
       "      <td>Computer Science and Engineering</td>\n",
       "      <td>KPK</td>\n",
       "      <td>Associate Professor</td>\n",
       "      <td>PhD</td>\n",
       "      <td>JNU</td>\n",
       "      <td>south korea</td>\n",
       "      <td>NaN</td>\n",
       "      <td>Electrical Impedance Tomography, Inverse algor...</td>\n",
       "      <td>NaN</td>\n",
       "    </tr>\n",
       "    <tr>\n",
       "      <th>1138</th>\n",
       "      <td>1975</td>\n",
       "      <td>1976</td>\n",
       "      <td>Dr. Fawad Hussain</td>\n",
       "      <td>Ghulam Ishaq Khan Institute</td>\n",
       "      <td>Computer Science and Engineering</td>\n",
       "      <td>KPK</td>\n",
       "      <td>Associate Professor</td>\n",
       "      <td>PhD</td>\n",
       "      <td>Grenoble</td>\n",
       "      <td>france</td>\n",
       "      <td>NaN</td>\n",
       "      <td>Machine Learning, Big Data Anaysis, Data Minin...</td>\n",
       "      <td>NaN</td>\n",
       "    </tr>\n",
       "    <tr>\n",
       "      <th>1139</th>\n",
       "      <td>1977</td>\n",
       "      <td>1978</td>\n",
       "      <td>Dr. Rashad M Jillani</td>\n",
       "      <td>Ghulam Ishaq Khan Institute</td>\n",
       "      <td>Computer Science and Engineering</td>\n",
       "      <td>KPK</td>\n",
       "      <td>Assistant Professor</td>\n",
       "      <td>PhD</td>\n",
       "      <td>Florida Atlantic University</td>\n",
       "      <td>usa</td>\n",
       "      <td>2012.0</td>\n",
       "      <td>Digital Multimedia Systems, Video Compression ...</td>\n",
       "      <td>NaN</td>\n",
       "    </tr>\n",
       "    <tr>\n",
       "      <th>1140</th>\n",
       "      <td>1979</td>\n",
       "      <td>1980</td>\n",
       "      <td>Dr. Shahabuddin Ansari</td>\n",
       "      <td>Ghulam Ishaq Khan Institute</td>\n",
       "      <td>Computer Science and Engineering</td>\n",
       "      <td>KPK</td>\n",
       "      <td>Assistant Professor</td>\n",
       "      <td>PhD</td>\n",
       "      <td>Ghulam Ishaq Khan Institute of Science and Tec...</td>\n",
       "      <td>pakistan</td>\n",
       "      <td>NaN</td>\n",
       "      <td>Medical Image Processing and Analysis, Digital...</td>\n",
       "      <td>NaN</td>\n",
       "    </tr>\n",
       "    <tr>\n",
       "      <th>1141</th>\n",
       "      <td>1980</td>\n",
       "      <td>1981</td>\n",
       "      <td>Dr. Sajid Anwar</td>\n",
       "      <td>Ghulam Ishaq Khan Institute</td>\n",
       "      <td>Computer Science and Engineering</td>\n",
       "      <td>KPK</td>\n",
       "      <td>Assistant Professor</td>\n",
       "      <td>PhD</td>\n",
       "      <td>Seoul National University</td>\n",
       "      <td>south korea</td>\n",
       "      <td>NaN</td>\n",
       "      <td>Pruning and Quantizing CNN, GPGPU,</td>\n",
       "      <td>NaN</td>\n",
       "    </tr>\n",
       "  </tbody>\n",
       "</table>\n",
       "<p>1142 rows × 13 columns</p>\n",
       "</div>"
      ],
      "text/plain": [
       "      Unnamed: 0    S#            Teacher Name  \\\n",
       "0              2     3         Dr. Abdul Basit   \n",
       "1              4     5         Dr. Waheed Noor   \n",
       "2              5     6        Dr. Junaid Baber   \n",
       "3              6     7     Dr. Maheen Bakhtyar   \n",
       "4             24    25             Samina Azim   \n",
       "...          ...   ...                     ...   \n",
       "1137        1974  1975        Dr. Ahmar Rashid   \n",
       "1138        1975  1976       Dr. Fawad Hussain   \n",
       "1139        1977  1978    Dr. Rashad M Jillani   \n",
       "1140        1979  1980  Dr. Shahabuddin Ansari   \n",
       "1141        1980  1981         Dr. Sajid Anwar   \n",
       "\n",
       "               University Currently Teaching  \\\n",
       "0                  University of Balochistan   \n",
       "1                  University of Balochistan   \n",
       "2                  University of Balochistan   \n",
       "3                  University of Balochistan   \n",
       "4     Sardar Bahadur Khan Women's University   \n",
       "...                                      ...   \n",
       "1137             Ghulam Ishaq Khan Institute   \n",
       "1138             Ghulam Ishaq Khan Institute   \n",
       "1139             Ghulam Ishaq Khan Institute   \n",
       "1140             Ghulam Ishaq Khan Institute   \n",
       "1141             Ghulam Ishaq Khan Institute   \n",
       "\n",
       "                            Department Province University Located  \\\n",
       "0                Computer Science & IT                 Balochistan   \n",
       "1                Computer Science & IT                 Balochistan   \n",
       "2                Computer Science & IT                 Balochistan   \n",
       "3                Computer Science & IT                 Balochistan   \n",
       "4                     Computer Science                 Balochistan   \n",
       "...                                ...                         ...   \n",
       "1137  Computer Science and Engineering                         KPK   \n",
       "1138  Computer Science and Engineering                         KPK   \n",
       "1139  Computer Science and Engineering                         KPK   \n",
       "1140  Computer Science and Engineering                         KPK   \n",
       "1141  Computer Science and Engineering                         KPK   \n",
       "\n",
       "              Designation Terminal Degree  \\\n",
       "0     Assistant Professor             PhD   \n",
       "1     Assistant Professor             PhD   \n",
       "2     Assistant Professor             PhD   \n",
       "3     Assistant Professor             PhD   \n",
       "4                Lecturer              BS   \n",
       "...                   ...             ...   \n",
       "1137  Associate Professor             PhD   \n",
       "1138  Associate Professor             PhD   \n",
       "1139  Assistant Professor             PhD   \n",
       "1140  Assistant Professor             PhD   \n",
       "1141  Assistant Professor             PhD   \n",
       "\n",
       "                                         Graduated from      Country    Year  \\\n",
       "0                         Asian Institute of Technology     thailand     NaN   \n",
       "1                         Asian Institute of Technology     thailand     NaN   \n",
       "2                         Asian Institute of Technology     thailand     NaN   \n",
       "3                         Asian Institute of Technology     thailand     NaN   \n",
       "4     Balochistan University of Information Technolo...     pakistan  2005.0   \n",
       "...                                                 ...          ...     ...   \n",
       "1137                                                JNU  south korea     NaN   \n",
       "1138                                           Grenoble       france     NaN   \n",
       "1139                        Florida Atlantic University          usa  2012.0   \n",
       "1140  Ghulam Ishaq Khan Institute of Science and Tec...     pakistan     NaN   \n",
       "1141                          Seoul National University  south korea     NaN   \n",
       "\n",
       "              Area of Specialization/Research Interests Other Information  \n",
       "0                           Software Engineering & DBMS               NaN  \n",
       "1                                                  DBMS               NaN  \n",
       "2             Information processing, Multimedia mining               NaN  \n",
       "3     NLP, Information Retrieval, Question Answering...               NaN  \n",
       "4                         VLSI Electronics DLD Database               NaN  \n",
       "...                                                 ...               ...  \n",
       "1137  Electrical Impedance Tomography, Inverse algor...               NaN  \n",
       "1138  Machine Learning, Big Data Anaysis, Data Minin...               NaN  \n",
       "1139  Digital Multimedia Systems, Video Compression ...               NaN  \n",
       "1140  Medical Image Processing and Analysis, Digital...               NaN  \n",
       "1141                 Pruning and Quantizing CNN, GPGPU,               NaN  \n",
       "\n",
       "[1142 rows x 13 columns]"
      ]
     },
     "execution_count": 4,
     "metadata": {},
     "output_type": "execute_result"
    }
   ],
   "source": [
    "professors"
   ]
  },
  {
   "cell_type": "markdown",
   "id": "c26b6f63",
   "metadata": {
    "papermill": {
     "duration": 0.01858,
     "end_time": "2021-12-13T15:54:48.708757",
     "exception": false,
     "start_time": "2021-12-13T15:54:48.690177",
     "status": "completed"
    },
    "tags": []
   },
   "source": [
    "# 1) Examine another column\n",
    "\n",
    "Write code below to take a look at all the unique values in the \"Graduated from\" column."
   ]
  },
  {
   "cell_type": "code",
   "execution_count": 5,
   "id": "ebde67b3",
   "metadata": {
    "execution": {
     "iopub.execute_input": "2021-12-13T15:54:48.749752Z",
     "iopub.status.busy": "2021-12-13T15:54:48.749104Z",
     "iopub.status.idle": "2021-12-13T15:54:48.757362Z",
     "shell.execute_reply": "2021-12-13T15:54:48.757868Z",
     "shell.execute_reply.started": "2021-12-13T15:46:50.136496Z"
    },
    "papermill": {
     "duration": 0.030169,
     "end_time": "2021-12-13T15:54:48.758037",
     "exception": false,
     "start_time": "2021-12-13T15:54:48.727868",
     "status": "completed"
    },
    "tags": []
   },
   "outputs": [
    {
     "data": {
      "application/javascript": [
       "parent.postMessage({\"jupyterEvent\": \"custom.exercise_interaction\", \"data\": {\"outcomeType\": 1, \"valueTowardsCompletion\": 0.3333333333333333, \"interactionType\": 1, \"questionType\": 4, \"questionId\": \"1_ExamineProvince\", \"learnToolsVersion\": \"0.3.4\", \"failureMessage\": \"\", \"exceptionClass\": \"\", \"trace\": \"\"}}, \"*\")"
      ],
      "text/plain": [
       "<IPython.core.display.Javascript object>"
      ]
     },
     "metadata": {},
     "output_type": "display_data"
    },
    {
     "data": {
      "text/markdown": [
       "<span style=\"color:#33cc33\">Correct:</span> \n",
       "\n",
       "There are inconsistencies that can be fixed by removing white spaces at the beginning and end of cells.  For instance, \"University of Central Florida\" and \" University of Central Florida\" both appear in the column."
      ],
      "text/plain": [
       "Correct: \n",
       "\n",
       "There are inconsistencies that can be fixed by removing white spaces at the beginning and end of cells.  For instance, \"University of Central Florida\" and \" University of Central Florida\" both appear in the column."
      ]
     },
     "metadata": {},
     "output_type": "display_data"
    }
   ],
   "source": [
    "# TODO: Your code here\n",
    "graduated=professors['Graduated from'].unique()\n",
    "graduated.sort()\n",
    "graduated\n",
    "q1.check()"
   ]
  },
  {
   "cell_type": "markdown",
   "id": "db452a5d",
   "metadata": {
    "papermill": {
     "duration": 0.019681,
     "end_time": "2021-12-13T15:54:48.797477",
     "exception": false,
     "start_time": "2021-12-13T15:54:48.777796",
     "status": "completed"
    },
    "tags": []
   },
   "source": [
    "Do you notice any inconsistencies in the data?  Can any of the inconsistencies in the data be fixed by removing white spaces at the beginning and end of cells?\n",
    "\n",
    "Once you have answered these questions, run the code cell below to get credit for your work."
   ]
  },
  {
   "cell_type": "code",
   "execution_count": 6,
   "id": "da1bb473",
   "metadata": {
    "execution": {
     "iopub.execute_input": "2021-12-13T15:54:48.840765Z",
     "iopub.status.busy": "2021-12-13T15:54:48.840131Z",
     "iopub.status.idle": "2021-12-13T15:54:48.842670Z",
     "shell.execute_reply": "2021-12-13T15:54:48.843207Z",
     "shell.execute_reply.started": "2021-12-13T15:46:50.154066Z"
    },
    "papermill": {
     "duration": 0.025865,
     "end_time": "2021-12-13T15:54:48.843369",
     "exception": false,
     "start_time": "2021-12-13T15:54:48.817504",
     "status": "completed"
    },
    "tags": []
   },
   "outputs": [],
   "source": [
    "# Line below will give you a hint\n",
    "#q1.hint()"
   ]
  },
  {
   "cell_type": "markdown",
   "id": "eb5d8a32",
   "metadata": {
    "papermill": {
     "duration": 0.019698,
     "end_time": "2021-12-13T15:54:48.882883",
     "exception": false,
     "start_time": "2021-12-13T15:54:48.863185",
     "status": "completed"
    },
    "tags": []
   },
   "source": [
    "# 2) Do some text pre-processing\n",
    "\n",
    "Convert every entry in the \"Graduated from\" column in the `professors` DataFrame to remove white spaces at the beginning and end of cells."
   ]
  },
  {
   "cell_type": "code",
   "execution_count": 7,
   "id": "8f324972",
   "metadata": {
    "execution": {
     "iopub.execute_input": "2021-12-13T15:54:48.925901Z",
     "iopub.status.busy": "2021-12-13T15:54:48.925285Z",
     "iopub.status.idle": "2021-12-13T15:54:48.933277Z",
     "shell.execute_reply": "2021-12-13T15:54:48.933813Z",
     "shell.execute_reply.started": "2021-12-13T15:46:50.164922Z"
    },
    "papermill": {
     "duration": 0.031013,
     "end_time": "2021-12-13T15:54:48.933984",
     "exception": false,
     "start_time": "2021-12-13T15:54:48.902971",
     "status": "completed"
    },
    "tags": []
   },
   "outputs": [
    {
     "data": {
      "application/javascript": [
       "parent.postMessage({\"jupyterEvent\": \"custom.exercise_interaction\", \"data\": {\"outcomeType\": 1, \"valueTowardsCompletion\": 0.3333333333333333, \"interactionType\": 1, \"questionType\": 1, \"questionId\": \"2_TextProcessing\", \"learnToolsVersion\": \"0.3.4\", \"failureMessage\": \"\", \"exceptionClass\": \"\", \"trace\": \"\"}}, \"*\")"
      ],
      "text/plain": [
       "<IPython.core.display.Javascript object>"
      ]
     },
     "metadata": {},
     "output_type": "display_data"
    },
    {
     "data": {
      "text/markdown": [
       "<span style=\"color:#33cc33\">Correct</span>"
      ],
      "text/plain": [
       "Correct"
      ]
     },
     "metadata": {},
     "output_type": "display_data"
    }
   ],
   "source": [
    "# TODO: Your code here\n",
    "professors['Graduated from']=professors['Graduated from'].str.strip()\n",
    "\n",
    "# Check your answer\n",
    "q2.check()"
   ]
  },
  {
   "cell_type": "code",
   "execution_count": 8,
   "id": "17cf2861",
   "metadata": {
    "execution": {
     "iopub.execute_input": "2021-12-13T15:54:48.980936Z",
     "iopub.status.busy": "2021-12-13T15:54:48.980290Z",
     "iopub.status.idle": "2021-12-13T15:54:48.982774Z",
     "shell.execute_reply": "2021-12-13T15:54:48.982254Z",
     "shell.execute_reply.started": "2021-12-13T15:46:50.184870Z"
    },
    "papermill": {
     "duration": 0.027357,
     "end_time": "2021-12-13T15:54:48.982909",
     "exception": false,
     "start_time": "2021-12-13T15:54:48.955552",
     "status": "completed"
    },
    "tags": []
   },
   "outputs": [],
   "source": [
    "# Lines below will give you a hint or solution code\n",
    "#q2.hint()\n",
    "#q2.solution()"
   ]
  },
  {
   "cell_type": "markdown",
   "id": "1e4a98e8",
   "metadata": {
    "papermill": {
     "duration": 0.020692,
     "end_time": "2021-12-13T15:54:49.024965",
     "exception": false,
     "start_time": "2021-12-13T15:54:49.004273",
     "status": "completed"
    },
    "tags": []
   },
   "source": [
    "# 3) Continue working with countries\n",
    "\n",
    "In the tutorial, we focused on cleaning up inconsistencies in the \"Country\" column.  Run the code cell below to view the list of unique values that we ended with."
   ]
  },
  {
   "cell_type": "code",
   "execution_count": 9,
   "id": "25b89cb1",
   "metadata": {
    "execution": {
     "iopub.execute_input": "2021-12-13T15:54:49.073013Z",
     "iopub.status.busy": "2021-12-13T15:54:49.072006Z",
     "iopub.status.idle": "2021-12-13T15:54:49.077007Z",
     "shell.execute_reply": "2021-12-13T15:54:49.077458Z",
     "shell.execute_reply.started": "2021-12-13T15:46:50.198429Z"
    },
    "papermill": {
     "duration": 0.031553,
     "end_time": "2021-12-13T15:54:49.077627",
     "exception": false,
     "start_time": "2021-12-13T15:54:49.046074",
     "status": "completed"
    },
    "tags": []
   },
   "outputs": [
    {
     "data": {
      "text/plain": [
       "array(['australia', 'austria', 'canada', 'china', 'finland', 'france',\n",
       "       'germany', 'greece', 'hongkong', 'ireland', 'italy', 'japan',\n",
       "       'macau', 'malaysia', 'mauritius', 'netherland', 'new zealand',\n",
       "       'norway', 'pakistan', 'portugal', 'russian federation',\n",
       "       'saudi arabia', 'scotland', 'singapore', 'south korea', 'spain',\n",
       "       'sweden', 'thailand', 'turkey', 'uk', 'urbana', 'usa', 'usofa'],\n",
       "      dtype=object)"
      ]
     },
     "execution_count": 9,
     "metadata": {},
     "output_type": "execute_result"
    }
   ],
   "source": [
    "# get all the unique values in the 'City' column\n",
    "countries = professors['Country'].unique()\n",
    "\n",
    "# sort them alphabetically and then take a closer look\n",
    "countries.sort()\n",
    "countries"
   ]
  },
  {
   "cell_type": "markdown",
   "id": "0d523e38",
   "metadata": {
    "papermill": {
     "duration": 0.021813,
     "end_time": "2021-12-13T15:54:49.121077",
     "exception": false,
     "start_time": "2021-12-13T15:54:49.099264",
     "status": "completed"
    },
    "tags": []
   },
   "source": [
    "Take another look at the \"Country\" column and see if there's any more data cleaning we need to do.\n",
    "\n",
    "It looks like 'usa' and 'usofa' should be the same country.  Correct the \"Country\" column in the dataframe so that 'usofa' appears instead as 'usa'.\n",
    "\n",
    "**Use the most recent version of the DataFrame (with the whitespaces at the beginning and end of cells removed) from question 2.**"
   ]
  },
  {
   "cell_type": "code",
   "execution_count": 10,
   "id": "fee23396",
   "metadata": {
    "execution": {
     "iopub.execute_input": "2021-12-13T15:54:49.167610Z",
     "iopub.status.busy": "2021-12-13T15:54:49.166653Z",
     "iopub.status.idle": "2021-12-13T15:54:49.174856Z",
     "shell.execute_reply": "2021-12-13T15:54:49.175346Z",
     "shell.execute_reply.started": "2021-12-13T15:46:50.217951Z"
    },
    "papermill": {
     "duration": 0.03265,
     "end_time": "2021-12-13T15:54:49.175513",
     "exception": false,
     "start_time": "2021-12-13T15:54:49.142863",
     "status": "completed"
    },
    "tags": []
   },
   "outputs": [
    {
     "data": {
      "text/plain": [
       "[('usofa', 100),\n",
       " ('usa', 75),\n",
       " ('austria', 50),\n",
       " ('scotland', 46),\n",
       " ('australia', 43),\n",
       " ('spain', 40),\n",
       " ('france', 36),\n",
       " ('norway', 36),\n",
       " ('urbana', 36),\n",
       " ('finland', 33),\n",
       " ('pakistan', 31),\n",
       " ('malaysia', 31),\n",
       " ('portugal', 31),\n",
       " ('uk', 29),\n",
       " ('singapore', 29),\n",
       " ('mauritius', 29),\n",
       " ('russian federation', 26),\n",
       " ('south korea', 25),\n",
       " ('saudi arabia', 24),\n",
       " ('china', 20),\n",
       " ('italy', 20),\n",
       " ('macau', 20),\n",
       " ('japan', 20),\n",
       " ('sweden', 18),\n",
       " ('canada', 18)]"
      ]
     },
     "execution_count": 10,
     "metadata": {},
     "output_type": "execute_result"
    }
   ],
   "source": [
    "countries =professors['Country'].unique()\n",
    "\n",
    "\n",
    "matches = fuzzywuzzy.process.extract(\"usofa\", countries, limit=25, scorer=fuzzywuzzy.fuzz.token_sort_ratio)\n",
    "matches"
   ]
  },
  {
   "cell_type": "code",
   "execution_count": 11,
   "id": "4229e128",
   "metadata": {
    "execution": {
     "iopub.execute_input": "2021-12-13T15:54:49.223253Z",
     "iopub.status.busy": "2021-12-13T15:54:49.222323Z",
     "iopub.status.idle": "2021-12-13T15:54:49.228404Z",
     "shell.execute_reply": "2021-12-13T15:54:49.228867Z",
     "shell.execute_reply.started": "2021-12-13T15:46:50.302267Z"
    },
    "papermill": {
     "duration": 0.032128,
     "end_time": "2021-12-13T15:54:49.229036",
     "exception": false,
     "start_time": "2021-12-13T15:54:49.196908",
     "status": "completed"
    },
    "tags": []
   },
   "outputs": [],
   "source": [
    "def replace_matches_in_column(df, column, string_to_match, min_ratio =74):\n",
    "    # get a list of unique strings\n",
    "    strings = df[column].unique()\n",
    "    \n",
    "    # get the top 10 closest matches to our input string\n",
    "    matches = fuzzywuzzy.process.extract(string_to_match, strings, \n",
    "                                         limit=10, scorer=fuzzywuzzy.fuzz.token_sort_ratio)\n",
    "\n",
    "    # only get matches with a ratio > 90\n",
    "    close_matches = [matches[0] for matches in matches if matches[1] >= min_ratio]\n",
    "\n",
    "    # get the rows of all the close matches in our dataframe\n",
    "    rows_with_matches = df[column].isin(close_matches)\n",
    "\n",
    "    # replace all rows with close matches with the input matches \n",
    "    df.loc[rows_with_matches, column] = string_to_match\n",
    "    "
   ]
  },
  {
   "cell_type": "code",
   "execution_count": 12,
   "id": "81d0757e",
   "metadata": {
    "execution": {
     "iopub.execute_input": "2021-12-13T15:54:49.285983Z",
     "iopub.status.busy": "2021-12-13T15:54:49.285336Z",
     "iopub.status.idle": "2021-12-13T15:54:49.290481Z",
     "shell.execute_reply": "2021-12-13T15:54:49.291281Z",
     "shell.execute_reply.started": "2021-12-13T15:52:45.945860Z"
    },
    "papermill": {
     "duration": 0.036867,
     "end_time": "2021-12-13T15:54:49.291479",
     "exception": false,
     "start_time": "2021-12-13T15:54:49.254612",
     "status": "completed"
    },
    "tags": []
   },
   "outputs": [
    {
     "data": {
      "application/javascript": [
       "parent.postMessage({\"jupyterEvent\": \"custom.exercise_interaction\", \"data\": {\"outcomeType\": 1, \"valueTowardsCompletion\": 0.3333333333333333, \"interactionType\": 1, \"questionType\": 1, \"questionId\": \"3_WorkingWithCities\", \"learnToolsVersion\": \"0.3.4\", \"failureMessage\": \"\", \"exceptionClass\": \"\", \"trace\": \"\"}}, \"*\")"
      ],
      "text/plain": [
       "<IPython.core.display.Javascript object>"
      ]
     },
     "metadata": {},
     "output_type": "display_data"
    },
    {
     "data": {
      "text/markdown": [
       "<span style=\"color:#33cc33\">Correct</span>"
      ],
      "text/plain": [
       "Correct"
      ]
     },
     "metadata": {},
     "output_type": "display_data"
    }
   ],
   "source": [
    "# TODO: Your code here!\n",
    "replace_matches_in_column (df=professors,column='Country',string_to_match = \"usa\")\n",
    "# Check your answer\n",
    "q3.check()"
   ]
  },
  {
   "cell_type": "code",
   "execution_count": 13,
   "id": "84fc9642",
   "metadata": {
    "execution": {
     "iopub.execute_input": "2021-12-13T15:54:49.340503Z",
     "iopub.status.busy": "2021-12-13T15:54:49.339855Z",
     "iopub.status.idle": "2021-12-13T15:54:49.344958Z",
     "shell.execute_reply": "2021-12-13T15:54:49.345511Z",
     "shell.execute_reply.started": "2021-12-13T15:53:44.759176Z"
    },
    "papermill": {
     "duration": 0.031225,
     "end_time": "2021-12-13T15:54:49.345672",
     "exception": false,
     "start_time": "2021-12-13T15:54:49.314447",
     "status": "completed"
    },
    "tags": []
   },
   "outputs": [
    {
     "data": {
      "text/plain": [
       "array(['australia', 'austria', 'canada', 'china', 'finland', 'france',\n",
       "       'germany', 'greece', 'hongkong', 'ireland', 'italy', 'japan',\n",
       "       'macau', 'malaysia', 'mauritius', 'netherland', 'new zealand',\n",
       "       'norway', 'pakistan', 'portugal', 'russian federation',\n",
       "       'saudi arabia', 'scotland', 'singapore', 'south korea', 'spain',\n",
       "       'sweden', 'thailand', 'turkey', 'uk', 'urbana', 'usa'],\n",
       "      dtype=object)"
      ]
     },
     "execution_count": 13,
     "metadata": {},
     "output_type": "execute_result"
    }
   ],
   "source": [
    "# lets check the value replaced\n",
    "countries = professors['Country'].unique()\n",
    "\n",
    "# sort them alphabetically and then take a closer look\n",
    "countries.sort()\n",
    "countries"
   ]
  },
  {
   "cell_type": "code",
   "execution_count": 14,
   "id": "2756a077",
   "metadata": {
    "execution": {
     "iopub.execute_input": "2021-12-13T15:54:49.394273Z",
     "iopub.status.busy": "2021-12-13T15:54:49.393582Z",
     "iopub.status.idle": "2021-12-13T15:54:49.396372Z",
     "shell.execute_reply": "2021-12-13T15:54:49.396912Z",
     "shell.execute_reply.started": "2021-12-13T15:46:50.361324Z"
    },
    "papermill": {
     "duration": 0.028555,
     "end_time": "2021-12-13T15:54:49.397078",
     "exception": false,
     "start_time": "2021-12-13T15:54:49.368523",
     "status": "completed"
    },
    "tags": []
   },
   "outputs": [],
   "source": [
    "# Lines below will give you a hint or solution code\n",
    "#q3.hint()\n",
    "#q3.solution()"
   ]
  },
  {
   "cell_type": "markdown",
   "id": "b11f8a22",
   "metadata": {
    "papermill": {
     "duration": 0.023055,
     "end_time": "2021-12-13T15:54:49.443590",
     "exception": false,
     "start_time": "2021-12-13T15:54:49.420535",
     "status": "completed"
    },
    "tags": []
   },
   "source": [
    "# Congratulations!\n",
    "\n",
    "Congratulations for completing the **Data Cleaning** course on Kaggle Learn!\n",
    "\n",
    "To practice your new skills, you're encouraged to download and investigate some of [Kaggle's Datasets](https://www.kaggle.com/datasets)."
   ]
  },
  {
   "cell_type": "markdown",
   "id": "07a87289",
   "metadata": {
    "papermill": {
     "duration": 0.022456,
     "end_time": "2021-12-13T15:54:49.488659",
     "exception": false,
     "start_time": "2021-12-13T15:54:49.466203",
     "status": "completed"
    },
    "tags": []
   },
   "source": [
    "---\n",
    "\n",
    "\n",
    "\n",
    "\n",
    "*Have questions or comments? Visit the [course discussion forum](https://www.kaggle.com/learn/data-cleaning/discussion) to chat with other learners.*"
   ]
  }
 ],
 "metadata": {
  "kernelspec": {
   "display_name": "Python 3",
   "language": "python",
   "name": "python3"
  },
  "language_info": {
   "codemirror_mode": {
    "name": "ipython",
    "version": 3
   },
   "file_extension": ".py",
   "mimetype": "text/x-python",
   "name": "python",
   "nbconvert_exporter": "python",
   "pygments_lexer": "ipython3",
   "version": "3.7.12"
  },
  "papermill": {
   "default_parameters": {},
   "duration": 11.81233,
   "end_time": "2021-12-13T15:54:50.120407",
   "environment_variables": {},
   "exception": null,
   "input_path": "__notebook__.ipynb",
   "output_path": "__notebook__.ipynb",
   "parameters": {},
   "start_time": "2021-12-13T15:54:38.308077",
   "version": "2.3.3"
  }
 },
 "nbformat": 4,
 "nbformat_minor": 5
}
